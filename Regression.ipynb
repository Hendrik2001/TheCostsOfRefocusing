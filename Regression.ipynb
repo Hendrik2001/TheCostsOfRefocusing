{
 "cells": [
  {
   "cell_type": "code",
   "execution_count": 157,
   "id": "initial_id",
   "metadata": {
    "collapsed": true,
    "ExecuteTime": {
     "end_time": "2024-08-07T17:02:09.657841300Z",
     "start_time": "2024-08-07T17:02:09.252244300Z"
    }
   },
   "outputs": [],
   "source": [
    "import pandas as pd\n",
    "import numpy as np\n",
    "from scipy.stats import zscore"
   ]
  },
  {
   "cell_type": "code",
   "outputs": [
    {
     "data": {
      "text/plain": "           companyid         mydate      aum_firm  fundcounter_j  \\\ncount  107854.000000  107854.000000  1.078540e+05  107854.000000   \nmean    13316.232815     560.785460  9.623793e+08       1.494455   \nstd     15204.115541      45.978855  2.840067e+09       1.312269   \nmin        29.000000     408.000000  1.000000e+06       1.000000   \n25%      3039.000000     536.000000  4.936600e+07       1.000000   \n50%      7711.000000     572.000000  2.050093e+08       1.000000   \n75%     19719.000000     597.000000  7.677132e+08       2.000000   \nmax     96963.000000     617.000000  1.011344e+11      29.000000   \n\n       missing_aum_firm  \ncount          107854.0  \nmean                0.0  \nstd                 0.0  \nmin                 0.0  \n25%                 0.0  \n50%                 0.0  \n75%                 0.0  \nmax                 0.0  ",
      "text/html": "<div>\n<style scoped>\n    .dataframe tbody tr th:only-of-type {\n        vertical-align: middle;\n    }\n\n    .dataframe tbody tr th {\n        vertical-align: top;\n    }\n\n    .dataframe thead th {\n        text-align: right;\n    }\n</style>\n<table border=\"1\" class=\"dataframe\">\n  <thead>\n    <tr style=\"text-align: right;\">\n      <th></th>\n      <th>companyid</th>\n      <th>mydate</th>\n      <th>aum_firm</th>\n      <th>fundcounter_j</th>\n      <th>missing_aum_firm</th>\n    </tr>\n  </thead>\n  <tbody>\n    <tr>\n      <th>count</th>\n      <td>107854.000000</td>\n      <td>107854.000000</td>\n      <td>1.078540e+05</td>\n      <td>107854.000000</td>\n      <td>107854.0</td>\n    </tr>\n    <tr>\n      <th>mean</th>\n      <td>13316.232815</td>\n      <td>560.785460</td>\n      <td>9.623793e+08</td>\n      <td>1.494455</td>\n      <td>0.0</td>\n    </tr>\n    <tr>\n      <th>std</th>\n      <td>15204.115541</td>\n      <td>45.978855</td>\n      <td>2.840067e+09</td>\n      <td>1.312269</td>\n      <td>0.0</td>\n    </tr>\n    <tr>\n      <th>min</th>\n      <td>29.000000</td>\n      <td>408.000000</td>\n      <td>1.000000e+06</td>\n      <td>1.000000</td>\n      <td>0.0</td>\n    </tr>\n    <tr>\n      <th>25%</th>\n      <td>3039.000000</td>\n      <td>536.000000</td>\n      <td>4.936600e+07</td>\n      <td>1.000000</td>\n      <td>0.0</td>\n    </tr>\n    <tr>\n      <th>50%</th>\n      <td>7711.000000</td>\n      <td>572.000000</td>\n      <td>2.050093e+08</td>\n      <td>1.000000</td>\n      <td>0.0</td>\n    </tr>\n    <tr>\n      <th>75%</th>\n      <td>19719.000000</td>\n      <td>597.000000</td>\n      <td>7.677132e+08</td>\n      <td>2.000000</td>\n      <td>0.0</td>\n    </tr>\n    <tr>\n      <th>max</th>\n      <td>96963.000000</td>\n      <td>617.000000</td>\n      <td>1.011344e+11</td>\n      <td>29.000000</td>\n      <td>0.0</td>\n    </tr>\n  </tbody>\n</table>\n</div>"
     },
     "execution_count": 326,
     "metadata": {},
     "output_type": "execute_result"
    }
   ],
   "source": [
    "import pandas as pd\n",
    "import numpy as np\n",
    "import statsmodels.api as sm\n",
    "import statsmodels.formula.api as smf\n",
    "\n",
    "# Load datasets\n",
    "integrate4 = pd.read_csv('integrate4.csv')\n",
    "tass5 = pd.read_csv('tass5.csv')\n",
    "diag3 = pd.read_csv('diag3.csv')\n",
    "intheset = pd.read_csv('intheset.csv')\n",
    "car36 = pd.read_csv('car36.csv')\n",
    "all_close_treat = pd.read_csv('all_close_treat.csv')\n",
    "\n",
    "# Filter and process integrate4 data\n",
    "df = integrate4[['id', 'mydate', 'crisis_treat24', 'crisis_treat24_90', 'fund_closedxcrisis', 'div_corr', 'corr_eps']]\n",
    "df = df.sort_values(by=['id', 'mydate']).drop_duplicates(subset=['id', 'mydate'])\n",
    "\n",
    "# Handle div_corr > 0.985\n",
    "df.loc[df['div_corr'] > 0.985, 'div_corr'] = np.nan\n",
    "\n",
    "# Calculate mindate\n",
    "df['mindate'] = df.groupby('id')['mydate'].transform('min')\n",
    "\n",
    "# Merge with tass5\n",
    "df = df.merge(tass5, on=['id', 'mydate'], how='left')\n",
    "\n",
    "# Merge with diag3 to get pre_treat and other variables\n",
    "df = df.merge(diag3, on='companyid', how='left')\n",
    "\n",
    "# Create TREATED variable\n",
    "df['TREATED'] = np.where((df['mydate'] > 593) & (df['mydate'] <= 617) & (df['pre_treat'] == 1), 1, 0)\n",
    "\n",
    "# Merge with intheset\n",
    "df = df.merge(intheset, on=['id', 'mydate'], how='left')\n",
    "\n",
    "# Calculate additional variables\n",
    "df['fundcounter_i'] = 1\n",
    "df['missing_aum_firm'] = df['aum'].isna().astype(int)\n",
    "\n",
    "# Aggregate firm-level data\n",
    "firm_level_agg = df.groupby(['companyid', 'mydate']).agg({\n",
    "    'aum': 'sum',\n",
    "    'fundcounter_i': 'sum',\n",
    "    'missing_aum_firm': 'max'\n",
    "}).reset_index().rename(columns={\n",
    "    'aum': 'aum_firm',\n",
    "    'fundcounter_i': 'fundcounter_j'\n",
    "})\n",
    "tempo = pd.DataFrame(firm_level_agg)\n",
    "tempo.describe()"
   ],
   "metadata": {
    "collapsed": false,
    "ExecuteTime": {
     "end_time": "2024-08-09T01:49:18.257305300Z",
     "start_time": "2024-08-09T01:49:12.235951200Z"
    }
   },
   "id": "7ebdf534ce44653",
   "execution_count": 326
  },
  {
   "cell_type": "code",
   "outputs": [],
   "source": [
    "firm_level_agg['log_firmscope'] = np.log(firm_level_agg['fundcounter_j'])\n",
    "\n",
    "# Merge the firm-level data back to the original dataframe\n",
    "df = df.merge(firm_level_agg, on=['companyid', 'mydate'], how='left')\n",
    "\n",
    "df['age'] = df['mydate'] - df['mindate'] + 1\n",
    "df['log_age'] = np.log(df['age'])\n",
    "\n",
    "\n",
    "# Create deciles for aum and age\n",
    "df['sz_dec'] = pd.qcut(df['aum'], 10, labels=False, duplicates='drop')\n",
    "df['age_dec'] = pd.qcut(df['age'], 10, labels=False, duplicates='drop')\n",
    "\n",
    "# Create size decile dummies\n",
    "sz_q_dummies = pd.get_dummies(df['sz_dec'], prefix='sz_q')\n",
    "df = pd.concat([df, sz_q_dummies], axis=1)\n",
    "\n",
    "# Create post variable (assuming crisis ends at mydate 593)\n",
    "df['post'] = np.where(df['mydate'] > 593, 1, 0)\n",
    "\n",
    "# Handle missing aum\n",
    "df['missing_aum'] = df['aum'].isna().astype(int)\n",
    "\n",
    "# Calculate standardized variables and IR\n",
    "df['stdv'] = df['stdv'].clip(df['stdv'].quantile(0.01), df['stdv'].quantile(0.99))\n",
    "df['ir'] = df['excess_ret'] / df['stdv']\n",
    "df['ir'] = df['ir'].clip(df['ir'].quantile(0.01), df['ir'].quantile(0.99))\n",
    "\n",
    "df['excess_ret'] = df['excess_ret'].clip(df['excess_ret'].quantile(0.01), df['excess_ret'].quantile(0.99))\n",
    "\n",
    "# Calculate scope quartiles\n",
    "# df['firmscope'] = np.exp(df['log_firmscope'])\n",
    "df['firmscope'] = df['fundcounter_j']\n",
    "df['scope_q1'] = np.where(df['firmscope'] <= df['firmscope'].quantile(0.25), 1, 0)\n",
    "df['scope_q2'] = np.where(df['firmscope'].between(df['firmscope'].quantile(0.25), df['firmscope'].quantile(0.50)), 1, 0)\n",
    "df['scope_q3'] = np.where(df['firmscope'].between(df['firmscope'].quantile(0.50), df['firmscope'].quantile(0.75)), 1, 0)\n",
    "df['scope_q4'] = np.where(df['firmscope'] > df['firmscope'].quantile(0.75), 1, 0)\n",
    "\n",
    "# Ensure mydate is a string and pad it to the correct length\n",
    "df['mydate'] = df['mydate'].astype(str).str.pad(width=8, fillchar='0')\n",
    "\n",
    "df['date'] = pd.to_datetime(df['date'])\n",
    "# Create year variable\n",
    "df['year'] = pd.to_datetime(df['date'], format='%Y%m%d').dt.year\n",
    "# Ensure year_dum variables are correctly created\n",
    "year_dummies = pd.get_dummies(df['year'], prefix='year_dum')\n",
    "df['year1'] = df['year']\n",
    "df = pd.concat([df, year_dummies], axis=1)\n",
    "\n",
    "df['int1c'] = np.where(df['div_corr'].notna(), df['div_corr'] * df['TREATED'], 0)\n",
    "df['ever_treated'] = df.groupby('id')['TREATED'].transform('max').astype(bool)\n",
    "df['first30'] = np.where(df['ever_treated'] & df['mydate'].astype(int).between(594, 623), 1, 0)\n",
    "df['second30'] = np.where(df['ever_treated'] & df['mydate'].astype(int).between(624, 653), 1, 0)\n",
    "\n",
    "df['firmsz_dec'] = pd.qcut(df['aum_firm'], 10, labels=False)\n",
    "firmsz_q_dummies = pd.get_dummies(df['firmsz_dec'], prefix='firmsz_q')\n",
    "\n",
    "df = pd.concat([df, firmsz_q_dummies], axis=1)\n",
    "\n",
    "df['age_dec'] = pd.qcut(df['age'], 10, labels=False)\n",
    "age_q_dummies = pd.get_dummies(df['age_dec'], prefix='age_q')\n",
    "\n",
    "\n",
    "\n",
    "\n",
    "df = pd.concat([df, age_q_dummies], axis=1)\n",
    "\n",
    "tass7 = df.copy()\n",
    "\n",
    "# Create firm-level data for fund-level analysis\n",
    "df_firm_level = df[df['intheset'] == 1]\n",
    "df_firm_level = df_firm_level[df_firm_level['firmscope'] < 50]\n",
    "df_firm_level = df_firm_level.groupby(['companyid', 'mydate']).agg({\n",
    "    'excess_ret': 'mean',\n",
    "    'ret': 'mean',\n",
    "    'post': 'mean',\n",
    "    'aum': 'mean',\n",
    "    'fundcounter_j': 'max',\n",
    "    'TREATED': 'max',\n",
    "    'age': 'max',\n",
    "    **{col: 'mean' for col in year_dummies.columns},\n",
    "    **{col: 'mean' for col in sz_q_dummies.columns}\n",
    "}).reset_index()\n",
    "df_firm_level['log_firmscope'] = np.log(df_firm_level['fundcounter_j'])\n",
    "df_firm_level['log_firmage'] = np.log(df_firm_level['age'] + 1)\n",
    "df_firm_level['age_dec'] = pd.qcut(df_firm_level['age'], 10, labels=False)\n",
    "df_firm_level['stdv_firm'] = df_firm_level.groupby(['companyid', 'TREATED'])['excess_ret'].transform('std')\n",
    "df_firm_level['firm_ir'] = df_firm_level['excess_ret'] / df_firm_level['stdv_firm']\n",
    "df_firm_level = df_firm_level.rename(columns={'fundcounter_j': 'firm_scope', 'age': 'firm_age'})\n",
    "\n",
    "tass8 = df_firm_level.copy()"
   ],
   "metadata": {
    "collapsed": false,
    "ExecuteTime": {
     "end_time": "2024-08-09T01:49:20.123834300Z",
     "start_time": "2024-08-09T01:49:18.246304200Z"
    }
   },
   "id": "23aedb07b97ffccd",
   "execution_count": 327
  },
  {
   "cell_type": "code",
   "outputs": [
    {
     "data": {
      "text/plain": "       companyid    mydate  excess_ret       ret  post           aum  \\\n0           29.0  00000526   -0.007494 -0.016699   0.0  1.478643e+07   \n1           29.0  00000527    0.074482 -0.005199   0.0  3.372292e+07   \n2           29.0  00000528    0.002050 -0.017199   0.0  2.153770e+07   \n3           29.0  00000529    0.020911 -0.002550   0.0  2.147236e+07   \n4           29.0  00000530   -0.000848  0.019399   0.0  2.198978e+07   \n...          ...       ...         ...       ...   ...           ...   \n68761    96683.0  00000613    0.041830  0.014399   1.0  1.269940e+09   \n68762    96683.0  00000614    0.066779  0.001499   1.0  1.309984e+09   \n68763    96683.0  00000615    0.065613  0.017199   1.0  1.338020e+09   \n68764    96683.0  00000616    0.041814 -0.004399   1.0  1.336691e+09   \n68765    96683.0  00000617    0.044604 -0.013299   1.0  1.320101e+09   \n\n       firm_scope  TREATED  firm_age  year_dum_1994  ...  sz_q_5  sz_q_6  \\\n0             1.0        0         1            0.0  ...     0.0     0.0   \n1             1.0        0         2            0.0  ...     0.0     0.0   \n2             2.0        0         3            0.0  ...     0.0     0.0   \n3             2.0        0         4            0.0  ...     0.0     0.0   \n4             2.0        0         5            0.0  ...     0.0     0.0   \n...           ...      ...       ...            ...  ...     ...     ...   \n68761         1.0        0        67            0.0  ...     0.0     0.0   \n68762         1.0        0        68            0.0  ...     0.0     0.0   \n68763         1.0        0        69            0.0  ...     0.0     0.0   \n68764         1.0        0        70            0.0  ...     0.0     0.0   \n68765         1.0        0        71            0.0  ...     0.0     0.0   \n\n       sz_q_7  sz_q_8  sz_q_9  log_firmscope  log_firmage  age_dec  stdv_firm  \\\n0         0.0     0.0     0.0       0.000000     0.693147        0   0.094323   \n1         0.0     0.0     0.0       0.000000     1.098612        0   0.094323   \n2         0.0     0.0     0.0       0.693147     1.386294        0   0.094323   \n3         0.0     0.0     0.0       0.693147     1.609438        0   0.094323   \n4         0.0     0.0     0.0       0.693147     1.791759        0   0.094323   \n...       ...     ...     ...            ...          ...      ...        ...   \n68761     0.0     1.0     0.0       0.000000     4.219508        6   0.069957   \n68762     0.0     1.0     0.0       0.000000     4.234107        6   0.069957   \n68763     0.0     1.0     0.0       0.000000     4.248495        6   0.069957   \n68764     0.0     1.0     0.0       0.000000     4.262680        6   0.069957   \n68765     0.0     1.0     0.0       0.000000     4.276666        6   0.069957   \n\n        firm_ir  \n0     -0.079445  \n1      0.789643  \n2      0.021735  \n3      0.221699  \n4     -0.008987  \n...         ...  \n68761  0.597940  \n68762  0.954577  \n68763  0.937915  \n68764  0.597712  \n68765  0.637588  \n\n[68766 rows x 42 columns]",
      "text/html": "<div>\n<style scoped>\n    .dataframe tbody tr th:only-of-type {\n        vertical-align: middle;\n    }\n\n    .dataframe tbody tr th {\n        vertical-align: top;\n    }\n\n    .dataframe thead th {\n        text-align: right;\n    }\n</style>\n<table border=\"1\" class=\"dataframe\">\n  <thead>\n    <tr style=\"text-align: right;\">\n      <th></th>\n      <th>companyid</th>\n      <th>mydate</th>\n      <th>excess_ret</th>\n      <th>ret</th>\n      <th>post</th>\n      <th>aum</th>\n      <th>firm_scope</th>\n      <th>TREATED</th>\n      <th>firm_age</th>\n      <th>year_dum_1994</th>\n      <th>...</th>\n      <th>sz_q_5</th>\n      <th>sz_q_6</th>\n      <th>sz_q_7</th>\n      <th>sz_q_8</th>\n      <th>sz_q_9</th>\n      <th>log_firmscope</th>\n      <th>log_firmage</th>\n      <th>age_dec</th>\n      <th>stdv_firm</th>\n      <th>firm_ir</th>\n    </tr>\n  </thead>\n  <tbody>\n    <tr>\n      <th>0</th>\n      <td>29.0</td>\n      <td>00000526</td>\n      <td>-0.007494</td>\n      <td>-0.016699</td>\n      <td>0.0</td>\n      <td>1.478643e+07</td>\n      <td>1.0</td>\n      <td>0</td>\n      <td>1</td>\n      <td>0.0</td>\n      <td>...</td>\n      <td>0.0</td>\n      <td>0.0</td>\n      <td>0.0</td>\n      <td>0.0</td>\n      <td>0.0</td>\n      <td>0.000000</td>\n      <td>0.693147</td>\n      <td>0</td>\n      <td>0.094323</td>\n      <td>-0.079445</td>\n    </tr>\n    <tr>\n      <th>1</th>\n      <td>29.0</td>\n      <td>00000527</td>\n      <td>0.074482</td>\n      <td>-0.005199</td>\n      <td>0.0</td>\n      <td>3.372292e+07</td>\n      <td>1.0</td>\n      <td>0</td>\n      <td>2</td>\n      <td>0.0</td>\n      <td>...</td>\n      <td>0.0</td>\n      <td>0.0</td>\n      <td>0.0</td>\n      <td>0.0</td>\n      <td>0.0</td>\n      <td>0.000000</td>\n      <td>1.098612</td>\n      <td>0</td>\n      <td>0.094323</td>\n      <td>0.789643</td>\n    </tr>\n    <tr>\n      <th>2</th>\n      <td>29.0</td>\n      <td>00000528</td>\n      <td>0.002050</td>\n      <td>-0.017199</td>\n      <td>0.0</td>\n      <td>2.153770e+07</td>\n      <td>2.0</td>\n      <td>0</td>\n      <td>3</td>\n      <td>0.0</td>\n      <td>...</td>\n      <td>0.0</td>\n      <td>0.0</td>\n      <td>0.0</td>\n      <td>0.0</td>\n      <td>0.0</td>\n      <td>0.693147</td>\n      <td>1.386294</td>\n      <td>0</td>\n      <td>0.094323</td>\n      <td>0.021735</td>\n    </tr>\n    <tr>\n      <th>3</th>\n      <td>29.0</td>\n      <td>00000529</td>\n      <td>0.020911</td>\n      <td>-0.002550</td>\n      <td>0.0</td>\n      <td>2.147236e+07</td>\n      <td>2.0</td>\n      <td>0</td>\n      <td>4</td>\n      <td>0.0</td>\n      <td>...</td>\n      <td>0.0</td>\n      <td>0.0</td>\n      <td>0.0</td>\n      <td>0.0</td>\n      <td>0.0</td>\n      <td>0.693147</td>\n      <td>1.609438</td>\n      <td>0</td>\n      <td>0.094323</td>\n      <td>0.221699</td>\n    </tr>\n    <tr>\n      <th>4</th>\n      <td>29.0</td>\n      <td>00000530</td>\n      <td>-0.000848</td>\n      <td>0.019399</td>\n      <td>0.0</td>\n      <td>2.198978e+07</td>\n      <td>2.0</td>\n      <td>0</td>\n      <td>5</td>\n      <td>0.0</td>\n      <td>...</td>\n      <td>0.0</td>\n      <td>0.0</td>\n      <td>0.0</td>\n      <td>0.0</td>\n      <td>0.0</td>\n      <td>0.693147</td>\n      <td>1.791759</td>\n      <td>0</td>\n      <td>0.094323</td>\n      <td>-0.008987</td>\n    </tr>\n    <tr>\n      <th>...</th>\n      <td>...</td>\n      <td>...</td>\n      <td>...</td>\n      <td>...</td>\n      <td>...</td>\n      <td>...</td>\n      <td>...</td>\n      <td>...</td>\n      <td>...</td>\n      <td>...</td>\n      <td>...</td>\n      <td>...</td>\n      <td>...</td>\n      <td>...</td>\n      <td>...</td>\n      <td>...</td>\n      <td>...</td>\n      <td>...</td>\n      <td>...</td>\n      <td>...</td>\n      <td>...</td>\n    </tr>\n    <tr>\n      <th>68761</th>\n      <td>96683.0</td>\n      <td>00000613</td>\n      <td>0.041830</td>\n      <td>0.014399</td>\n      <td>1.0</td>\n      <td>1.269940e+09</td>\n      <td>1.0</td>\n      <td>0</td>\n      <td>67</td>\n      <td>0.0</td>\n      <td>...</td>\n      <td>0.0</td>\n      <td>0.0</td>\n      <td>0.0</td>\n      <td>1.0</td>\n      <td>0.0</td>\n      <td>0.000000</td>\n      <td>4.219508</td>\n      <td>6</td>\n      <td>0.069957</td>\n      <td>0.597940</td>\n    </tr>\n    <tr>\n      <th>68762</th>\n      <td>96683.0</td>\n      <td>00000614</td>\n      <td>0.066779</td>\n      <td>0.001499</td>\n      <td>1.0</td>\n      <td>1.309984e+09</td>\n      <td>1.0</td>\n      <td>0</td>\n      <td>68</td>\n      <td>0.0</td>\n      <td>...</td>\n      <td>0.0</td>\n      <td>0.0</td>\n      <td>0.0</td>\n      <td>1.0</td>\n      <td>0.0</td>\n      <td>0.000000</td>\n      <td>4.234107</td>\n      <td>6</td>\n      <td>0.069957</td>\n      <td>0.954577</td>\n    </tr>\n    <tr>\n      <th>68763</th>\n      <td>96683.0</td>\n      <td>00000615</td>\n      <td>0.065613</td>\n      <td>0.017199</td>\n      <td>1.0</td>\n      <td>1.338020e+09</td>\n      <td>1.0</td>\n      <td>0</td>\n      <td>69</td>\n      <td>0.0</td>\n      <td>...</td>\n      <td>0.0</td>\n      <td>0.0</td>\n      <td>0.0</td>\n      <td>1.0</td>\n      <td>0.0</td>\n      <td>0.000000</td>\n      <td>4.248495</td>\n      <td>6</td>\n      <td>0.069957</td>\n      <td>0.937915</td>\n    </tr>\n    <tr>\n      <th>68764</th>\n      <td>96683.0</td>\n      <td>00000616</td>\n      <td>0.041814</td>\n      <td>-0.004399</td>\n      <td>1.0</td>\n      <td>1.336691e+09</td>\n      <td>1.0</td>\n      <td>0</td>\n      <td>70</td>\n      <td>0.0</td>\n      <td>...</td>\n      <td>0.0</td>\n      <td>0.0</td>\n      <td>0.0</td>\n      <td>1.0</td>\n      <td>0.0</td>\n      <td>0.000000</td>\n      <td>4.262680</td>\n      <td>6</td>\n      <td>0.069957</td>\n      <td>0.597712</td>\n    </tr>\n    <tr>\n      <th>68765</th>\n      <td>96683.0</td>\n      <td>00000617</td>\n      <td>0.044604</td>\n      <td>-0.013299</td>\n      <td>1.0</td>\n      <td>1.320101e+09</td>\n      <td>1.0</td>\n      <td>0</td>\n      <td>71</td>\n      <td>0.0</td>\n      <td>...</td>\n      <td>0.0</td>\n      <td>0.0</td>\n      <td>0.0</td>\n      <td>1.0</td>\n      <td>0.0</td>\n      <td>0.000000</td>\n      <td>4.276666</td>\n      <td>6</td>\n      <td>0.069957</td>\n      <td>0.637588</td>\n    </tr>\n  </tbody>\n</table>\n<p>68766 rows × 42 columns</p>\n</div>"
     },
     "execution_count": 276,
     "metadata": {},
     "output_type": "execute_result"
    }
   ],
   "source": [
    "tass8"
   ],
   "metadata": {
    "collapsed": false,
    "ExecuteTime": {
     "end_time": "2024-08-08T10:25:05.384556900Z",
     "start_time": "2024-08-08T10:25:05.181559300Z"
    }
   },
   "id": "d5db96ca0b66ef11",
   "execution_count": 276
  },
  {
   "cell_type": "code",
   "outputs": [],
   "source": [
    "# Fund-level analysis: Merge datasets\n",
    "columns_to_merge_from_tass7 = ['companyid', 'mydate', 'TREATED','missing_aum', 'int1c', 'ever_treated', 'first30', 'second30', 'id', 'div_corr', 'fund_closedxcrisis','firmscope', 'intheset', 'scope_q1', 'scope_q2', 'scope_q3', 'scope_q4', 'aum', 'log_age', 'age','aum_firm',\n",
    "                               'ir', 'year1']\n",
    "columns_to_merge_from_tass7.extend(firmsz_q_dummies.columns)  # Add the firmsize dummies\n",
    "# columns_to_merge_from_tass7.extend(firmage_q_dummies.columns) # Add the firmage dummies\n",
    "columns_to_merge_from_tass7.extend(age_q_dummies.columns) # Add the firmage dummies\n",
    "\n",
    "df_fund_level = tass8.merge(\n",
    "    tass7[columns_to_merge_from_tass7], \n",
    "    on=['companyid', 'mydate'], \n",
    "    how='left'\n",
    ")\n",
    "# Ensure 'id' is present in car36\n",
    "car36['id'] = car36['id'].astype(str)\n",
    "df_fund_level['id'] = df_fund_level['id'].astype(str)\n",
    "\n",
    "# Convert mydate in car36 to string for merging\n",
    "car36['mydate'] = car36['mydate'].astype(str).str.pad(width=8, fillchar='0')\n",
    "all_close_treat['mydate'] = all_close_treat['mydate'].astype(str).str.pad(width=8, fillchar='0')\n",
    "\n",
    "df_fund_level = df_fund_level.merge(car36[['id', 'mydate']], on=['id', 'mydate'], how='left')\n",
    "df_fund_level = df_fund_level.merge(all_close_treat[['companyid', 'mydate', 'all_close_treat']], on=['companyid', 'mydate'], how='left')\n",
    "df_fund_level = df_fund_level.loc[:, ~df_fund_level.columns.duplicated()]\n",
    "\n",
    "# Check if TREATED variable exists after merging steps\n",
    "df_fund_level['TREATED'] = df_fund_level['TREATED_x']\n",
    "df_fund_level['ALL_TREAT'] = df_fund_level['all_close_treat'] - df_fund_level['TREATED']\n",
    "# Create dummies for firm age deciles\n",
    "df_fund_level['firmage_q'] = pd.qcut(df_fund_level['firm_age'], 10, labels=False)\n",
    "firmage_q_dummies = pd.get_dummies(df_fund_level['firmage_q'], prefix='firmage_q')"
   ],
   "metadata": {
    "collapsed": false,
    "ExecuteTime": {
     "end_time": "2024-08-09T01:49:21.111694600Z",
     "start_time": "2024-08-09T01:49:20.067235300Z"
    }
   },
   "id": "c5573369e2176dda",
   "execution_count": 328
  },
  {
   "cell_type": "code",
   "outputs": [
    {
     "name": "stdout",
     "output_type": "stream",
     "text": [
      "        firmage_q_0  firmage_q_1  firmage_q_2  firmage_q_3  firmage_q_4  \\\n",
      "0              True        False        False        False        False   \n",
      "1              True        False        False        False        False   \n",
      "2              True        False        False        False        False   \n",
      "3              True        False        False        False        False   \n",
      "4              True        False        False        False        False   \n",
      "...             ...          ...          ...          ...          ...   \n",
      "105614        False        False        False        False        False   \n",
      "105615        False        False        False        False        False   \n",
      "105616        False        False        False        False        False   \n",
      "105617        False        False        False        False        False   \n",
      "105618        False        False        False        False        False   \n",
      "\n",
      "        firmage_q_5  firmage_q_6  firmage_q_7  firmage_q_8  firmage_q_9  \n",
      "0             False        False        False        False        False  \n",
      "1             False        False        False        False        False  \n",
      "2             False        False        False        False        False  \n",
      "3             False        False        False        False        False  \n",
      "4             False        False        False        False        False  \n",
      "...             ...          ...          ...          ...          ...  \n",
      "105614         True        False        False        False        False  \n",
      "105615         True        False        False        False        False  \n",
      "105616         True        False        False        False        False  \n",
      "105617         True        False        False        False        False  \n",
      "105618         True        False        False        False        False  \n",
      "\n",
      "[105619 rows x 10 columns]\n"
     ]
    },
    {
     "data": {
      "text/plain": "        companyid    mydate  excess_ret       ret  post         aum_x  \\\n0            29.0  00000526   -0.007494 -0.016699   0.0  1.478643e+07   \n1            29.0  00000527    0.074482 -0.005199   0.0  3.372292e+07   \n2            29.0  00000528    0.002050 -0.017199   0.0  2.153770e+07   \n3            29.0  00000528    0.002050 -0.017199   0.0  2.153770e+07   \n4            29.0  00000529    0.020911 -0.002550   0.0  2.147236e+07   \n...           ...       ...         ...       ...   ...           ...   \n105614    96683.0  00000613    0.041830  0.014399   1.0  1.269940e+09   \n105615    96683.0  00000614    0.066779  0.001499   1.0  1.309984e+09   \n105616    96683.0  00000615    0.065613  0.017199   1.0  1.338020e+09   \n105617    96683.0  00000616    0.041814 -0.004399   1.0  1.336691e+09   \n105618    96683.0  00000617    0.044604 -0.013299   1.0  1.320101e+09   \n\n        firm_scope  TREATED_x  firm_age  year_dum_1994  ...  firmage_q_0  \\\n0              1.0          0         1            0.0  ...         True   \n1              1.0          0         2            0.0  ...         True   \n2              2.0          0         3            0.0  ...         True   \n3              2.0          0         3            0.0  ...         True   \n4              2.0          0         4            0.0  ...         True   \n...            ...        ...       ...            ...  ...          ...   \n105614         1.0          0        67            0.0  ...        False   \n105615         1.0          0        68            0.0  ...        False   \n105616         1.0          0        69            0.0  ...        False   \n105617         1.0          0        70            0.0  ...        False   \n105618         1.0          0        71            0.0  ...        False   \n\n        firmage_q_1  firmage_q_2  firmage_q_3  firmage_q_4  firmage_q_5  \\\n0             False        False        False        False        False   \n1             False        False        False        False        False   \n2             False        False        False        False        False   \n3             False        False        False        False        False   \n4             False        False        False        False        False   \n...             ...          ...          ...          ...          ...   \n105614        False        False        False        False         True   \n105615        False        False        False        False         True   \n105616        False        False        False        False         True   \n105617        False        False        False        False         True   \n105618        False        False        False        False         True   \n\n        firmage_q_6  firmage_q_7  firmage_q_8  firmage_q_9  \n0             False        False        False        False  \n1             False        False        False        False  \n2             False        False        False        False  \n3             False        False        False        False  \n4             False        False        False        False  \n...             ...          ...          ...          ...  \n105614        False        False        False        False  \n105615        False        False        False        False  \n105616        False        False        False        False  \n105617        False        False        False        False  \n105618        False        False        False        False  \n\n[105619 rows x 115 columns]",
      "text/html": "<div>\n<style scoped>\n    .dataframe tbody tr th:only-of-type {\n        vertical-align: middle;\n    }\n\n    .dataframe tbody tr th {\n        vertical-align: top;\n    }\n\n    .dataframe thead th {\n        text-align: right;\n    }\n</style>\n<table border=\"1\" class=\"dataframe\">\n  <thead>\n    <tr style=\"text-align: right;\">\n      <th></th>\n      <th>companyid</th>\n      <th>mydate</th>\n      <th>excess_ret</th>\n      <th>ret</th>\n      <th>post</th>\n      <th>aum_x</th>\n      <th>firm_scope</th>\n      <th>TREATED_x</th>\n      <th>firm_age</th>\n      <th>year_dum_1994</th>\n      <th>...</th>\n      <th>firmage_q_0</th>\n      <th>firmage_q_1</th>\n      <th>firmage_q_2</th>\n      <th>firmage_q_3</th>\n      <th>firmage_q_4</th>\n      <th>firmage_q_5</th>\n      <th>firmage_q_6</th>\n      <th>firmage_q_7</th>\n      <th>firmage_q_8</th>\n      <th>firmage_q_9</th>\n    </tr>\n  </thead>\n  <tbody>\n    <tr>\n      <th>0</th>\n      <td>29.0</td>\n      <td>00000526</td>\n      <td>-0.007494</td>\n      <td>-0.016699</td>\n      <td>0.0</td>\n      <td>1.478643e+07</td>\n      <td>1.0</td>\n      <td>0</td>\n      <td>1</td>\n      <td>0.0</td>\n      <td>...</td>\n      <td>True</td>\n      <td>False</td>\n      <td>False</td>\n      <td>False</td>\n      <td>False</td>\n      <td>False</td>\n      <td>False</td>\n      <td>False</td>\n      <td>False</td>\n      <td>False</td>\n    </tr>\n    <tr>\n      <th>1</th>\n      <td>29.0</td>\n      <td>00000527</td>\n      <td>0.074482</td>\n      <td>-0.005199</td>\n      <td>0.0</td>\n      <td>3.372292e+07</td>\n      <td>1.0</td>\n      <td>0</td>\n      <td>2</td>\n      <td>0.0</td>\n      <td>...</td>\n      <td>True</td>\n      <td>False</td>\n      <td>False</td>\n      <td>False</td>\n      <td>False</td>\n      <td>False</td>\n      <td>False</td>\n      <td>False</td>\n      <td>False</td>\n      <td>False</td>\n    </tr>\n    <tr>\n      <th>2</th>\n      <td>29.0</td>\n      <td>00000528</td>\n      <td>0.002050</td>\n      <td>-0.017199</td>\n      <td>0.0</td>\n      <td>2.153770e+07</td>\n      <td>2.0</td>\n      <td>0</td>\n      <td>3</td>\n      <td>0.0</td>\n      <td>...</td>\n      <td>True</td>\n      <td>False</td>\n      <td>False</td>\n      <td>False</td>\n      <td>False</td>\n      <td>False</td>\n      <td>False</td>\n      <td>False</td>\n      <td>False</td>\n      <td>False</td>\n    </tr>\n    <tr>\n      <th>3</th>\n      <td>29.0</td>\n      <td>00000528</td>\n      <td>0.002050</td>\n      <td>-0.017199</td>\n      <td>0.0</td>\n      <td>2.153770e+07</td>\n      <td>2.0</td>\n      <td>0</td>\n      <td>3</td>\n      <td>0.0</td>\n      <td>...</td>\n      <td>True</td>\n      <td>False</td>\n      <td>False</td>\n      <td>False</td>\n      <td>False</td>\n      <td>False</td>\n      <td>False</td>\n      <td>False</td>\n      <td>False</td>\n      <td>False</td>\n    </tr>\n    <tr>\n      <th>4</th>\n      <td>29.0</td>\n      <td>00000529</td>\n      <td>0.020911</td>\n      <td>-0.002550</td>\n      <td>0.0</td>\n      <td>2.147236e+07</td>\n      <td>2.0</td>\n      <td>0</td>\n      <td>4</td>\n      <td>0.0</td>\n      <td>...</td>\n      <td>True</td>\n      <td>False</td>\n      <td>False</td>\n      <td>False</td>\n      <td>False</td>\n      <td>False</td>\n      <td>False</td>\n      <td>False</td>\n      <td>False</td>\n      <td>False</td>\n    </tr>\n    <tr>\n      <th>...</th>\n      <td>...</td>\n      <td>...</td>\n      <td>...</td>\n      <td>...</td>\n      <td>...</td>\n      <td>...</td>\n      <td>...</td>\n      <td>...</td>\n      <td>...</td>\n      <td>...</td>\n      <td>...</td>\n      <td>...</td>\n      <td>...</td>\n      <td>...</td>\n      <td>...</td>\n      <td>...</td>\n      <td>...</td>\n      <td>...</td>\n      <td>...</td>\n      <td>...</td>\n      <td>...</td>\n    </tr>\n    <tr>\n      <th>105614</th>\n      <td>96683.0</td>\n      <td>00000613</td>\n      <td>0.041830</td>\n      <td>0.014399</td>\n      <td>1.0</td>\n      <td>1.269940e+09</td>\n      <td>1.0</td>\n      <td>0</td>\n      <td>67</td>\n      <td>0.0</td>\n      <td>...</td>\n      <td>False</td>\n      <td>False</td>\n      <td>False</td>\n      <td>False</td>\n      <td>False</td>\n      <td>True</td>\n      <td>False</td>\n      <td>False</td>\n      <td>False</td>\n      <td>False</td>\n    </tr>\n    <tr>\n      <th>105615</th>\n      <td>96683.0</td>\n      <td>00000614</td>\n      <td>0.066779</td>\n      <td>0.001499</td>\n      <td>1.0</td>\n      <td>1.309984e+09</td>\n      <td>1.0</td>\n      <td>0</td>\n      <td>68</td>\n      <td>0.0</td>\n      <td>...</td>\n      <td>False</td>\n      <td>False</td>\n      <td>False</td>\n      <td>False</td>\n      <td>False</td>\n      <td>True</td>\n      <td>False</td>\n      <td>False</td>\n      <td>False</td>\n      <td>False</td>\n    </tr>\n    <tr>\n      <th>105616</th>\n      <td>96683.0</td>\n      <td>00000615</td>\n      <td>0.065613</td>\n      <td>0.017199</td>\n      <td>1.0</td>\n      <td>1.338020e+09</td>\n      <td>1.0</td>\n      <td>0</td>\n      <td>69</td>\n      <td>0.0</td>\n      <td>...</td>\n      <td>False</td>\n      <td>False</td>\n      <td>False</td>\n      <td>False</td>\n      <td>False</td>\n      <td>True</td>\n      <td>False</td>\n      <td>False</td>\n      <td>False</td>\n      <td>False</td>\n    </tr>\n    <tr>\n      <th>105617</th>\n      <td>96683.0</td>\n      <td>00000616</td>\n      <td>0.041814</td>\n      <td>-0.004399</td>\n      <td>1.0</td>\n      <td>1.336691e+09</td>\n      <td>1.0</td>\n      <td>0</td>\n      <td>70</td>\n      <td>0.0</td>\n      <td>...</td>\n      <td>False</td>\n      <td>False</td>\n      <td>False</td>\n      <td>False</td>\n      <td>False</td>\n      <td>True</td>\n      <td>False</td>\n      <td>False</td>\n      <td>False</td>\n      <td>False</td>\n    </tr>\n    <tr>\n      <th>105618</th>\n      <td>96683.0</td>\n      <td>00000617</td>\n      <td>0.044604</td>\n      <td>-0.013299</td>\n      <td>1.0</td>\n      <td>1.320101e+09</td>\n      <td>1.0</td>\n      <td>0</td>\n      <td>71</td>\n      <td>0.0</td>\n      <td>...</td>\n      <td>False</td>\n      <td>False</td>\n      <td>False</td>\n      <td>False</td>\n      <td>False</td>\n      <td>True</td>\n      <td>False</td>\n      <td>False</td>\n      <td>False</td>\n      <td>False</td>\n    </tr>\n  </tbody>\n</table>\n<p>105619 rows × 115 columns</p>\n</div>"
     },
     "execution_count": 316,
     "metadata": {},
     "output_type": "execute_result"
    }
   ],
   "source": [
    "print(firmage_q_dummies)\n",
    "df_fund_level = pd.concat([df_fund_level, firmage_q_dummies], axis=1)\n",
    "df_fund_level"
   ],
   "metadata": {
    "collapsed": false,
    "ExecuteTime": {
     "end_time": "2024-08-08T23:41:02.131728300Z",
     "start_time": "2024-08-08T23:41:01.974946Z"
    }
   },
   "id": "d1c9be1dc7137fe2",
   "execution_count": 316
  },
  {
   "cell_type": "markdown",
   "source": [
    "REG1 part 2"
   ],
   "metadata": {
    "collapsed": false
   },
   "id": "d7ce1e18c96e64db"
  },
  {
   "cell_type": "markdown",
   "source": [],
   "metadata": {
    "collapsed": false
   },
   "id": "65c1a3ebd6c2de42"
  },
  {
   "cell_type": "code",
   "outputs": [
    {
     "name": "stderr",
     "output_type": "stream",
     "text": [
      "C:\\Users\\hendrikv\\AppData\\Local\\Temp\\ipykernel_15164\\3847851982.py:49: SettingWithCopyWarning: \n",
      "A value is trying to be set on a copy of a slice from a DataFrame.\n",
      "Try using .loc[row_indexer,col_indexer] = value instead\n",
      "\n",
      "See the caveats in the documentation: https://pandas.pydata.org/pandas-docs/stable/user_guide/indexing.html#returning-a-view-versus-a-copy\n",
      "  regression_df['year'] = regression_df['year1']\n"
     ]
    }
   ],
   "source": [
    "df_fund_level['ALL_TREAT'] = df_fund_level['all_close_treat'] - df_fund_level['TREATED']\n",
    "df_fund_level['ALL_TREAT'] = df_fund_level['ALL_TREAT'].clip(lower=0)\n",
    "\n",
    "df_fund_level['time_treat'] = df_fund_level['mydate'].astype(int) - 594\n",
    "df_fund_level['int2'] = df_fund_level['TREATED'] * df_fund_level['time_treat']\n",
    "df_fund_level['int3'] = df_fund_level['ALL_TREAT'] * df_fund_level['time_treat']\n",
    "df_fund_level['int3'] = df_fund_level['int3'].fillna(0)\n",
    "\n",
    "df_fund_level['max_treated'] = df_fund_level.groupby('id')['TREATED'].transform('max')\n",
    "df_fund_level['max_treated'] = np.where(df_fund_level['mydate'].astype(int) < 594, 0, df_fund_level['max_treated'])\n",
    "\n",
    "df_fund_level['first24'] = np.where(df_fund_level['mydate'].astype(int).between(594, 617), 1, 0)\n",
    "df_fund_level['next36'] = np.where(df_fund_level['mydate'].astype(int) > 617, 1, 0)\n",
    "\n",
    "df_fund_level['Tx24'] = df_fund_level['max_treated'] * df_fund_level['first24']\n",
    "df_fund_level['Txn36'] = df_fund_level['max_treated'] * df_fund_level['next36']\n",
    "\n",
    "df_fund_level['max_int1c'] = df_fund_level.groupby('id')['int1c'].transform('max')\n",
    "df_fund_level['max_int1c'] = np.where(df_fund_level['mydate'].astype(int) < 594, 0, df_fund_level['max_int1c'])\n",
    "\n",
    "df_fund_level['max_int2'] = df_fund_level.groupby('id')['int2'].transform('max')\n",
    "df_fund_level['max_int2'] = np.where(df_fund_level['mydate'].astype(int) < 594, 0, df_fund_level['max_int2'])\n",
    "\n",
    "df_fund_level['Tx24xrelated'] = df_fund_level['Tx24'] * df_fund_level['max_int1c']\n",
    "df_fund_level['Txn36xrelated'] = df_fund_level['Txn36'] * df_fund_level['max_int1c']\n",
    "\n",
    "df_fund_level['triple_int'] = np.where(df_fund_level['div_corr'].notna(), df_fund_level['TREATED'] * df_fund_level['time_treat'] * df_fund_level['div_corr'], 0)\n",
    "df_fund_level['int1c_max'] = np.where(df_fund_level['div_corr'].notna(), df_fund_level['max_treated'] * df_fund_level['div_corr'], 0)\n",
    "df_fund_level['int2_max'] = df_fund_level['max_treated'] * df_fund_level['time_treat']\n",
    "df_fund_level['triple_int_max'] = np.where(df_fund_level['div_corr'].notna(), df_fund_level['max_treated'] * df_fund_level['time_treat'] * df_fund_level['div_corr'], 0)\n",
    "\n",
    "df_fund_level['max_firmscope'] = df_fund_level.groupby('companyid')['firmscope'].transform('max')\n",
    "median_max_firmscope = df_fund_level.loc[(df_fund_level['max_treated'] == 1) & (df_fund_level['intheset'] == 1) & (df_fund_level['firmscope'] < 50), 'max_firmscope'].median()\n",
    "# Create the interaction term\n",
    "df_fund_level['TREATED_related'] = df_fund_level['TREATED'] * df_fund_level['int1c']\n",
    "\n",
    "df_fund_level.to_csv('tass12.csv', index=False)\n",
    "\n",
    "# Summary statistics\n",
    "summary_stats_file = df_fund_level[(df_fund_level['intheset'] == 1) & (df_fund_level['mydate'].astype(int) <= 617) & (df_fund_level['firmscope'] < 50)]\n",
    "\n",
    "summary_stats_file.to_csv('summary_stats_file.csv')\n",
    "\n",
    "summary_stats = summary_stats_file.describe()\n",
    "summary_stats.to_csv('summary_stats_real.csv')\n",
    "\n",
    "# Filter the dataframe for the regression\n",
    "regression_df = df_fund_level[(df_fund_level['intheset'] == 1) & (df_fund_level['mydate'].astype(int) <= 617) & (df_fund_level['firmscope'] < 50)]\n",
    "regression_df['year'] = regression_df['year1']"
   ],
   "metadata": {
    "collapsed": false,
    "ExecuteTime": {
     "end_time": "2024-08-09T01:49:39.372969Z",
     "start_time": "2024-08-09T01:49:22.788587800Z"
    }
   },
   "id": "e56c0fa14333ef7a",
   "execution_count": 329
  },
  {
   "cell_type": "code",
   "outputs": [
    {
     "data": {
      "text/plain": "        companyid    mydate  excess_ret       ret  post         aum_x  \\\n0            29.0  00000526   -0.007494 -0.016699   0.0  1.478643e+07   \n1            29.0  00000527    0.074482 -0.005199   0.0  3.372292e+07   \n2            29.0  00000528    0.002050 -0.017199   0.0  2.153770e+07   \n3            29.0  00000528    0.002050 -0.017199   0.0  2.153770e+07   \n4            29.0  00000529    0.020911 -0.002550   0.0  2.147236e+07   \n...           ...       ...         ...       ...   ...           ...   \n105614    96683.0  00000613    0.041830  0.014399   1.0  1.269940e+09   \n105615    96683.0  00000614    0.066779  0.001499   1.0  1.309984e+09   \n105616    96683.0  00000615    0.065613  0.017199   1.0  1.338020e+09   \n105617    96683.0  00000616    0.041814 -0.004399   1.0  1.336691e+09   \n105618    96683.0  00000617    0.044604 -0.013299   1.0  1.320101e+09   \n\n        firm_scope  TREATED_x  firm_age  year_dum_1994  ...  firmage_q_0  \\\n0              1.0          0         1            0.0  ...         True   \n1              1.0          0         2            0.0  ...         True   \n2              2.0          0         3            0.0  ...         True   \n3              2.0          0         3            0.0  ...         True   \n4              2.0          0         4            0.0  ...         True   \n...            ...        ...       ...            ...  ...          ...   \n105614         1.0          0        67            0.0  ...        False   \n105615         1.0          0        68            0.0  ...        False   \n105616         1.0          0        69            0.0  ...        False   \n105617         1.0          0        70            0.0  ...        False   \n105618         1.0          0        71            0.0  ...        False   \n\n        firmage_q_1  firmage_q_2  firmage_q_3  firmage_q_4  firmage_q_5  \\\n0             False        False        False        False        False   \n1             False        False        False        False        False   \n2             False        False        False        False        False   \n3             False        False        False        False        False   \n4             False        False        False        False        False   \n...             ...          ...          ...          ...          ...   \n105614        False        False        False        False         True   \n105615        False        False        False        False         True   \n105616        False        False        False        False         True   \n105617        False        False        False        False         True   \n105618        False        False        False        False         True   \n\n        firmage_q_6  firmage_q_7  firmage_q_8  firmage_q_9  \n0             False        False        False        False  \n1             False        False        False        False  \n2             False        False        False        False  \n3             False        False        False        False  \n4             False        False        False        False  \n...             ...          ...          ...          ...  \n105614        False        False        False        False  \n105615        False        False        False        False  \n105616        False        False        False        False  \n105617        False        False        False        False  \n105618        False        False        False        False  \n\n[94376 rows x 115 columns]",
      "text/html": "<div>\n<style scoped>\n    .dataframe tbody tr th:only-of-type {\n        vertical-align: middle;\n    }\n\n    .dataframe tbody tr th {\n        vertical-align: top;\n    }\n\n    .dataframe thead th {\n        text-align: right;\n    }\n</style>\n<table border=\"1\" class=\"dataframe\">\n  <thead>\n    <tr style=\"text-align: right;\">\n      <th></th>\n      <th>companyid</th>\n      <th>mydate</th>\n      <th>excess_ret</th>\n      <th>ret</th>\n      <th>post</th>\n      <th>aum_x</th>\n      <th>firm_scope</th>\n      <th>TREATED_x</th>\n      <th>firm_age</th>\n      <th>year_dum_1994</th>\n      <th>...</th>\n      <th>firmage_q_0</th>\n      <th>firmage_q_1</th>\n      <th>firmage_q_2</th>\n      <th>firmage_q_3</th>\n      <th>firmage_q_4</th>\n      <th>firmage_q_5</th>\n      <th>firmage_q_6</th>\n      <th>firmage_q_7</th>\n      <th>firmage_q_8</th>\n      <th>firmage_q_9</th>\n    </tr>\n  </thead>\n  <tbody>\n    <tr>\n      <th>0</th>\n      <td>29.0</td>\n      <td>00000526</td>\n      <td>-0.007494</td>\n      <td>-0.016699</td>\n      <td>0.0</td>\n      <td>1.478643e+07</td>\n      <td>1.0</td>\n      <td>0</td>\n      <td>1</td>\n      <td>0.0</td>\n      <td>...</td>\n      <td>True</td>\n      <td>False</td>\n      <td>False</td>\n      <td>False</td>\n      <td>False</td>\n      <td>False</td>\n      <td>False</td>\n      <td>False</td>\n      <td>False</td>\n      <td>False</td>\n    </tr>\n    <tr>\n      <th>1</th>\n      <td>29.0</td>\n      <td>00000527</td>\n      <td>0.074482</td>\n      <td>-0.005199</td>\n      <td>0.0</td>\n      <td>3.372292e+07</td>\n      <td>1.0</td>\n      <td>0</td>\n      <td>2</td>\n      <td>0.0</td>\n      <td>...</td>\n      <td>True</td>\n      <td>False</td>\n      <td>False</td>\n      <td>False</td>\n      <td>False</td>\n      <td>False</td>\n      <td>False</td>\n      <td>False</td>\n      <td>False</td>\n      <td>False</td>\n    </tr>\n    <tr>\n      <th>2</th>\n      <td>29.0</td>\n      <td>00000528</td>\n      <td>0.002050</td>\n      <td>-0.017199</td>\n      <td>0.0</td>\n      <td>2.153770e+07</td>\n      <td>2.0</td>\n      <td>0</td>\n      <td>3</td>\n      <td>0.0</td>\n      <td>...</td>\n      <td>True</td>\n      <td>False</td>\n      <td>False</td>\n      <td>False</td>\n      <td>False</td>\n      <td>False</td>\n      <td>False</td>\n      <td>False</td>\n      <td>False</td>\n      <td>False</td>\n    </tr>\n    <tr>\n      <th>3</th>\n      <td>29.0</td>\n      <td>00000528</td>\n      <td>0.002050</td>\n      <td>-0.017199</td>\n      <td>0.0</td>\n      <td>2.153770e+07</td>\n      <td>2.0</td>\n      <td>0</td>\n      <td>3</td>\n      <td>0.0</td>\n      <td>...</td>\n      <td>True</td>\n      <td>False</td>\n      <td>False</td>\n      <td>False</td>\n      <td>False</td>\n      <td>False</td>\n      <td>False</td>\n      <td>False</td>\n      <td>False</td>\n      <td>False</td>\n    </tr>\n    <tr>\n      <th>4</th>\n      <td>29.0</td>\n      <td>00000529</td>\n      <td>0.020911</td>\n      <td>-0.002550</td>\n      <td>0.0</td>\n      <td>2.147236e+07</td>\n      <td>2.0</td>\n      <td>0</td>\n      <td>4</td>\n      <td>0.0</td>\n      <td>...</td>\n      <td>True</td>\n      <td>False</td>\n      <td>False</td>\n      <td>False</td>\n      <td>False</td>\n      <td>False</td>\n      <td>False</td>\n      <td>False</td>\n      <td>False</td>\n      <td>False</td>\n    </tr>\n    <tr>\n      <th>...</th>\n      <td>...</td>\n      <td>...</td>\n      <td>...</td>\n      <td>...</td>\n      <td>...</td>\n      <td>...</td>\n      <td>...</td>\n      <td>...</td>\n      <td>...</td>\n      <td>...</td>\n      <td>...</td>\n      <td>...</td>\n      <td>...</td>\n      <td>...</td>\n      <td>...</td>\n      <td>...</td>\n      <td>...</td>\n      <td>...</td>\n      <td>...</td>\n      <td>...</td>\n      <td>...</td>\n    </tr>\n    <tr>\n      <th>105614</th>\n      <td>96683.0</td>\n      <td>00000613</td>\n      <td>0.041830</td>\n      <td>0.014399</td>\n      <td>1.0</td>\n      <td>1.269940e+09</td>\n      <td>1.0</td>\n      <td>0</td>\n      <td>67</td>\n      <td>0.0</td>\n      <td>...</td>\n      <td>False</td>\n      <td>False</td>\n      <td>False</td>\n      <td>False</td>\n      <td>False</td>\n      <td>True</td>\n      <td>False</td>\n      <td>False</td>\n      <td>False</td>\n      <td>False</td>\n    </tr>\n    <tr>\n      <th>105615</th>\n      <td>96683.0</td>\n      <td>00000614</td>\n      <td>0.066779</td>\n      <td>0.001499</td>\n      <td>1.0</td>\n      <td>1.309984e+09</td>\n      <td>1.0</td>\n      <td>0</td>\n      <td>68</td>\n      <td>0.0</td>\n      <td>...</td>\n      <td>False</td>\n      <td>False</td>\n      <td>False</td>\n      <td>False</td>\n      <td>False</td>\n      <td>True</td>\n      <td>False</td>\n      <td>False</td>\n      <td>False</td>\n      <td>False</td>\n    </tr>\n    <tr>\n      <th>105616</th>\n      <td>96683.0</td>\n      <td>00000615</td>\n      <td>0.065613</td>\n      <td>0.017199</td>\n      <td>1.0</td>\n      <td>1.338020e+09</td>\n      <td>1.0</td>\n      <td>0</td>\n      <td>69</td>\n      <td>0.0</td>\n      <td>...</td>\n      <td>False</td>\n      <td>False</td>\n      <td>False</td>\n      <td>False</td>\n      <td>False</td>\n      <td>True</td>\n      <td>False</td>\n      <td>False</td>\n      <td>False</td>\n      <td>False</td>\n    </tr>\n    <tr>\n      <th>105617</th>\n      <td>96683.0</td>\n      <td>00000616</td>\n      <td>0.041814</td>\n      <td>-0.004399</td>\n      <td>1.0</td>\n      <td>1.336691e+09</td>\n      <td>1.0</td>\n      <td>0</td>\n      <td>70</td>\n      <td>0.0</td>\n      <td>...</td>\n      <td>False</td>\n      <td>False</td>\n      <td>False</td>\n      <td>False</td>\n      <td>False</td>\n      <td>True</td>\n      <td>False</td>\n      <td>False</td>\n      <td>False</td>\n      <td>False</td>\n    </tr>\n    <tr>\n      <th>105618</th>\n      <td>96683.0</td>\n      <td>00000617</td>\n      <td>0.044604</td>\n      <td>-0.013299</td>\n      <td>1.0</td>\n      <td>1.320101e+09</td>\n      <td>1.0</td>\n      <td>0</td>\n      <td>71</td>\n      <td>0.0</td>\n      <td>...</td>\n      <td>False</td>\n      <td>False</td>\n      <td>False</td>\n      <td>False</td>\n      <td>False</td>\n      <td>True</td>\n      <td>False</td>\n      <td>False</td>\n      <td>False</td>\n      <td>False</td>\n    </tr>\n  </tbody>\n</table>\n<p>94376 rows × 115 columns</p>\n</div>"
     },
     "execution_count": 321,
     "metadata": {},
     "output_type": "execute_result"
    }
   ],
   "source": [
    "\n",
    "regression_df\n"
   ],
   "metadata": {
    "collapsed": false,
    "ExecuteTime": {
     "end_time": "2024-08-08T23:41:52.298288400Z",
     "start_time": "2024-08-08T23:41:52.149026800Z"
    }
   },
   "id": "33a8a697057fe8d4",
   "execution_count": 321
  },
  {
   "cell_type": "code",
   "outputs": [
    {
     "name": "stderr",
     "output_type": "stream",
     "text": [
      "C:\\Users\\hendrikv\\AppData\\Local\\Temp\\ipykernel_15164\\510323426.py:10: SettingWithCopyWarning: \n",
      "A value is trying to be set on a copy of a slice from a DataFrame\n",
      "\n",
      "See the caveats in the documentation: https://pandas.pydata.org/pandas-docs/stable/user_guide/indexing.html#returning-a-view-versus-a-copy\n",
      "  regression_df.dropna(subset=['ir', 'TREATED'] + [col for col in regression_df.columns if col.startswith(('sz_q', 'scope_q', 'age_q', 'firmsz_q', 'firmage_q', 'year_dum_'))], inplace=True)\n"
     ]
    }
   ],
   "source": [
    "\n",
    "\n",
    "# for i in range(10):\n",
    "#     regression_df[f'sz_q{i}'] = regression_df[f'sz_q_{i}']\n",
    "#     regression_df[f'age_q{i}'] = (regression_df[f'age_q_{i}']) \n",
    "#     regression_df[f'firmsz_q{i}'] = (regression_df[f'firmsz_q_{i}.0'])\n",
    "#     regression_df[f'firmage_q{i}'] = (regression_df[f'firmage_q_{i}'])\n",
    "# \n",
    "\n",
    "# 2. Handling Missing Values\n",
    "# Impute or drop missing values in the relevant columns\n",
    "regression_df.dropna(subset=['ir', 'TREATED'] + [col for col in regression_df.columns if col.startswith(('sz_q', 'scope_q', 'age_q', 'firmsz_q', 'firmage_q', 'year_dum_'))], inplace=True)\n",
    "\n",
    "# 3. Filtering for clustering\n",
    "# Ensure groups have at least two observations\n",
    "id_counts = regression_df['id'].value_counts()\n",
    "regression_df = regression_df[regression_df['id'].isin(id_counts[id_counts > 1].index)]\n",
    "\n",
    "# Double-check and convert 'id' to numeric if needed\n",
    "regression_df['id'] = pd.to_numeric(regression_df['id']) \n",
    "\n",
    "# Convert boolean columns to numeric (0 or 1)\n",
    "boolean_columns = regression_df.select_dtypes(include='bool').columns\n",
    "regression_df[boolean_columns] = regression_df[boolean_columns].astype(int)\n",
    "\n",
    "# 4. Reset the index after filtering\n",
    "regression_df = regression_df.reset_index(drop=True)\n",
    "regression_df.to_csv('regression_df.csv')"
   ],
   "metadata": {
    "collapsed": false,
    "ExecuteTime": {
     "end_time": "2024-08-09T01:49:47.145635800Z",
     "start_time": "2024-08-09T01:49:39.175035800Z"
    }
   },
   "id": "301a3ac6751fe822",
   "execution_count": 330
  },
  {
   "cell_type": "code",
   "outputs": [
    {
     "data": {
      "text/plain": "array([  4561.,   5221.,   5223., ..., 593916.,   5358.,  25306.])"
     },
     "execution_count": 307,
     "metadata": {},
     "output_type": "execute_result"
    }
   ],
   "source": [
    "regression_df['id']"
   ],
   "metadata": {
    "collapsed": false,
    "ExecuteTime": {
     "end_time": "2024-08-08T23:31:45.919700200Z",
     "start_time": "2024-08-08T23:31:45.593761800Z"
    }
   },
   "id": "1c99a6d0e100789a",
   "execution_count": 307
  },
  {
   "cell_type": "code",
   "outputs": [],
   "source": [],
   "metadata": {
    "collapsed": false
   },
   "id": "dcfb64e698706359"
  },
  {
   "cell_type": "markdown",
   "source": [
    "REGRESSION: ONE DECILE IS OMITTED FOR EVERY CATEGORY TO AVOID MULTICOLINNEARITY"
   ],
   "metadata": {
    "collapsed": false
   },
   "id": "950cb68e72668ced"
  },
  {
   "cell_type": "code",
   "outputs": [
    {
     "name": "stdout",
     "output_type": "stream",
     "text": [
      "                            OLS Regression Results                            \n",
      "==============================================================================\n",
      "Dep. Variable:                     ir   R-squared:                       0.044\n",
      "Model:                            OLS   Adj. R-squared:                  0.043\n",
      "Method:                 Least Squares   F-statistic:                     6.033\n",
      "Date:                Thu, 08 Aug 2024   Prob (F-statistic):           1.39e-35\n",
      "Time:                        11:59:06   Log-Likelihood:            -1.4649e+05\n",
      "No. Observations:               94311   AIC:                         2.931e+05\n",
      "Df Residuals:                   94254   BIC:                         2.936e+05\n",
      "Df Model:                          56                                         \n",
      "Covariance Type:              cluster                                         \n",
      "=================================================================================\n",
      "                    coef    std err          z      P>|z|      [0.025      0.975]\n",
      "---------------------------------------------------------------------------------\n",
      "const            -0.6707      0.320     -2.094      0.036      -1.298      -0.043\n",
      "TREATED           0.2605      0.144      1.806      0.071      -0.022       0.543\n",
      "sz_q0             0.1035      0.200      0.517      0.605      -0.289       0.496\n",
      "sz_q1             0.1538      0.186      0.825      0.409      -0.212       0.519\n",
      "sz_q2             0.2549      0.184      1.385      0.166      -0.106       0.615\n",
      "sz_q3             0.0089      0.148      0.060      0.952      -0.282       0.300\n",
      "sz_q4             0.0952      0.135      0.707      0.479      -0.169       0.359\n",
      "sz_q5             0.0817      0.126      0.649      0.516      -0.165       0.328\n",
      "sz_q6             0.0241      0.111      0.217      0.828      -0.193       0.241\n",
      "sz_q7             0.0142      0.100      0.143      0.886      -0.181       0.209\n",
      "sz_q8             0.0332      0.073      0.454      0.650      -0.110       0.177\n",
      "scope_q1          0.1332      0.108      1.239      0.215      -0.078       0.344\n",
      "scope_q2         -0.0048      0.076     -0.063      0.950      -0.155       0.145\n",
      "scope_q3          0.0570      0.077      0.743      0.457      -0.093       0.207\n",
      "age_q0            0.5222      0.142      3.677      0.000       0.244       0.801\n",
      "age_q1            0.4716      0.139      3.405      0.001       0.200       0.743\n",
      "age_q2            0.3402      0.121      2.820      0.005       0.104       0.577\n",
      "age_q3            0.2618      0.118      2.215      0.027       0.030       0.494\n",
      "age_q4            0.0905      0.114      0.796      0.426      -0.132       0.313\n",
      "age_q5           -0.1415      0.100     -1.415      0.157      -0.338       0.055\n",
      "age_q6           -0.1514      0.091     -1.671      0.095      -0.329       0.026\n",
      "age_q7           -0.1161      0.076     -1.527      0.127      -0.265       0.033\n",
      "age_q8           -0.0230      0.067     -0.345      0.730      -0.153       0.108\n",
      "firmsz_q1        -0.1238      0.086     -1.434      0.152      -0.293       0.045\n",
      "firmsz_q2         0.1141      0.132      0.862      0.389      -0.145       0.374\n",
      "firmsz_q3         0.0358      0.132      0.272      0.786      -0.223       0.294\n",
      "firmsz_q4         0.1123      0.139      0.809      0.419      -0.160       0.384\n",
      "firmsz_q5         0.0616      0.158      0.390      0.697      -0.248       0.372\n",
      "firmsz_q6         0.0621      0.179      0.347      0.728      -0.288       0.413\n",
      "firmsz_q7         0.1445      0.192      0.753      0.451      -0.231       0.520\n",
      "firmsz_q8         0.1498      0.204      0.734      0.463      -0.250       0.550\n",
      "firmsz_q9         0.1804      0.216      0.835      0.404      -0.243       0.604\n",
      "year_dum_1994     0.1372      0.101      1.358      0.174      -0.061       0.335\n",
      "year_dum_1995     0.1744      0.096      1.820      0.069      -0.013       0.362\n",
      "year_dum_1996     0.2342      0.084      2.774      0.006       0.069       0.400\n",
      "year_dum_1997     0.2649      0.076      3.468      0.001       0.115       0.415\n",
      "year_dum_1998     0.1842      0.072      2.545      0.011       0.042       0.326\n",
      "year_dum_1999     0.2537      0.068      3.730      0.000       0.120       0.387\n",
      "year_dum_2000     0.1414      0.067      2.120      0.034       0.011       0.272\n",
      "year_dum_2001     0.1171      0.069      1.697      0.090      -0.018       0.252\n",
      "year_dum_2002     0.0752      0.065      1.159      0.246      -0.052       0.202\n",
      "year_dum_2003     0.0664      0.060      1.112      0.266      -0.051       0.183\n",
      "year_dum_2004     0.1874      0.054      3.440      0.001       0.081       0.294\n",
      "year_dum_2005     0.2971      0.051      5.874      0.000       0.198       0.396\n",
      "year_dum_2006     0.3569      0.048      7.370      0.000       0.262       0.452\n",
      "year_dum_2007     0.4437      0.053      8.295      0.000       0.339       0.549\n",
      "year_dum_2008 -5.309e-17   6.74e-17     -0.787      0.431   -1.85e-16    7.91e-17\n",
      "year_dum_2009     0.1018      0.018      5.556      0.000       0.066       0.138\n",
      "year_dum_2010     0.0635      0.011      5.907      0.000       0.042       0.085\n",
      "firmage_q1        0.0989      0.070      1.412      0.158      -0.038       0.236\n",
      "firmage_q2        0.1817      0.097      1.876      0.061      -0.008       0.371\n",
      "firmage_q3        0.2513      0.122      2.067      0.039       0.013       0.490\n",
      "firmage_q4        0.2627      0.132      1.997      0.046       0.005       0.520\n",
      "firmage_q5        0.2889      0.141      2.049      0.040       0.013       0.565\n",
      "firmage_q6        0.3271      0.145      2.261      0.024       0.044       0.611\n",
      "firmage_q7        0.3289      0.150      2.199      0.028       0.036       0.622\n",
      "firmage_q8        0.2315      0.163      1.417      0.157      -0.089       0.552\n",
      "firmage_q9        0.2117      0.175      1.211      0.226      -0.131       0.554\n",
      "==============================================================================\n",
      "Omnibus:                    25300.963   Durbin-Watson:                   0.742\n",
      "Prob(Omnibus):                  0.000   Jarque-Bera (JB):           347731.573\n",
      "Skew:                           0.911   Prob(JB):                         0.00\n",
      "Kurtosis:                      12.229   Cond. No.                     1.35e+16\n",
      "==============================================================================\n",
      "\n",
      "Notes:\n",
      "[1] Standard Errors are robust to cluster correlation (cluster)\n",
      "[2] The smallest eigenvalue is 1.28e-27. This might indicate that there are\n",
      "strong multicollinearity problems or that the design matrix is singular.\n"
     ]
    },
    {
     "name": "stderr",
     "output_type": "stream",
     "text": [
      "C:\\ProgramData\\anaconda3\\Lib\\site-packages\\statsmodels\\base\\model.py:1894: ValueWarning: covariance of constraints does not have full rank. The number of constraints is 57, but rank is 56\n",
      "  warnings.warn('covariance of constraints does not have full '\n"
     ]
    }
   ],
   "source": [
    "# Try a simple model with only TREATED and a few controls\n",
    "y = regression_df['ir']\n",
    "\n",
    "simple_X = sm.add_constant(regression_df[['TREATED', 'sz_q0', 'sz_q1', 'sz_q2','sz_q3','sz_q4','sz_q5','sz_q6','sz_q7','sz_q8',\n",
    "                                          # 'sz_q9',\n",
    "                                          'scope_q1','scope_q2','scope_q3',\n",
    "                                          # 'scope_q4',\n",
    "                                          'age_q0', 'age_q1', 'age_q2', 'age_q3', 'age_q4', 'age_q5', 'age_q6', 'age_q7', 'age_q8', \n",
    "                                          # age_q9\n",
    "                                          # 'firmsz_q0',\n",
    "                                          'firmsz_q1', 'firmsz_q2', 'firmsz_q3', 'firmsz_q4', 'firmsz_q5', 'firmsz_q6', 'firmsz_q7', 'firmsz_q8',\n",
    "                                          'firmsz_q9',\n",
    "                                         'year_dum_1994', 'year_dum_1995', 'year_dum_1996', 'year_dum_1997', 'year_dum_1998', 'year_dum_1999', 'year_dum_2000','year_dum_2001','year_dum_2002','year_dum_2003', 'year_dum_2004', 'year_dum_2005', 'year_dum_2006',\n",
    "                     'year_dum_2007', 'year_dum_2008', 'year_dum_2009', 'year_dum_2010', \n",
    "                                          # 'year_dum_2011',\n",
    "                                          'firmage_q1','firmage_q2', 'firmage_q3', 'firmage_q4', 'firmage_q5',\n",
    "                                          'firmage_q6', 'firmage_q7', 'firmage_q8', 'firmage_q9'\n",
    "                                          # ,'firmage_q0'\n",
    "                                          ]])\n",
    "simple_model = sm.OLS(y, simple_X).fit(cov_type='cluster', cov_kwds={'groups': regression_df['id']})\n",
    "print(simple_model.summary())\n"
   ],
   "metadata": {
    "collapsed": false,
    "ExecuteTime": {
     "end_time": "2024-08-08T10:59:06.453776700Z",
     "start_time": "2024-08-08T10:59:05.243826500Z"
    }
   },
   "id": "94308854f5929a07",
   "execution_count": 293
  },
  {
   "cell_type": "markdown",
   "source": [
    "Summary statistics + correlation table"
   ],
   "metadata": {
    "collapsed": false
   },
   "id": "43682dfeb5419357"
  },
  {
   "cell_type": "code",
   "outputs": [],
   "source": [
    "# List of selected variables for pairwise correlation\n",
    "selected_variables = [\n",
    "    'ir', 'TREATED', 'ALL_TREAT', 'TREATED_related',\n",
    "    'aum_y', 'firm_scope',\n",
    "    'firm_age', 'age', 'aum_firm', 'int1c', 'firmscope'\n",
    "    # 'Firm AUM ($)', idiosyncratic risk\n",
    "]\n",
    "\n",
    "# Calculate the pairwise correlation table\n",
    "summary_stats_corr = summary_stats_file[selected_variables].corr()\n",
    "\n",
    "# Save the correlation table\n",
    "summary_stats_corr.to_csv('summary_stats_correlation.csv')"
   ],
   "metadata": {
    "collapsed": false,
    "ExecuteTime": {
     "end_time": "2024-08-08T11:41:51.288316400Z",
     "start_time": "2024-08-08T11:41:51.146170700Z"
    }
   },
   "id": "dc5669db46792188",
   "execution_count": 302
  },
  {
   "cell_type": "code",
   "outputs": [
    {
     "ename": "KeyError",
     "evalue": "'year'",
     "output_type": "error",
     "traceback": [
      "\u001B[1;31m---------------------------------------------------------------------------\u001B[0m",
      "\u001B[1;31mKeyError\u001B[0m                                  Traceback (most recent call last)",
      "File \u001B[1;32m~\\AppData\\Roaming\\Python\\Python312\\site-packages\\pandas\\core\\indexes\\base.py:3790\u001B[0m, in \u001B[0;36mIndex.get_loc\u001B[1;34m(self, key)\u001B[0m\n\u001B[0;32m   3789\u001B[0m \u001B[38;5;28;01mtry\u001B[39;00m:\n\u001B[1;32m-> 3790\u001B[0m     \u001B[38;5;28;01mreturn\u001B[39;00m \u001B[38;5;28mself\u001B[39m\u001B[38;5;241m.\u001B[39m_engine\u001B[38;5;241m.\u001B[39mget_loc(casted_key)\n\u001B[0;32m   3791\u001B[0m \u001B[38;5;28;01mexcept\u001B[39;00m \u001B[38;5;167;01mKeyError\u001B[39;00m \u001B[38;5;28;01mas\u001B[39;00m err:\n",
      "File \u001B[1;32mindex.pyx:152\u001B[0m, in \u001B[0;36mpandas._libs.index.IndexEngine.get_loc\u001B[1;34m()\u001B[0m\n",
      "File \u001B[1;32mindex.pyx:181\u001B[0m, in \u001B[0;36mpandas._libs.index.IndexEngine.get_loc\u001B[1;34m()\u001B[0m\n",
      "File \u001B[1;32mpandas\\_libs\\hashtable_class_helper.pxi:7080\u001B[0m, in \u001B[0;36mpandas._libs.hashtable.PyObjectHashTable.get_item\u001B[1;34m()\u001B[0m\n",
      "File \u001B[1;32mpandas\\_libs\\hashtable_class_helper.pxi:7088\u001B[0m, in \u001B[0;36mpandas._libs.hashtable.PyObjectHashTable.get_item\u001B[1;34m()\u001B[0m\n",
      "\u001B[1;31mKeyError\u001B[0m: 'year'",
      "\nThe above exception was the direct cause of the following exception:\n",
      "\u001B[1;31mKeyError\u001B[0m                                  Traceback (most recent call last)",
      "Cell \u001B[1;32mIn[308], line 1\u001B[0m\n\u001B[1;32m----> 1\u001B[0m regression_df[\u001B[38;5;124m'\u001B[39m\u001B[38;5;124myear\u001B[39m\u001B[38;5;124m'\u001B[39m]\n",
      "File \u001B[1;32m~\\AppData\\Roaming\\Python\\Python312\\site-packages\\pandas\\core\\frame.py:3896\u001B[0m, in \u001B[0;36mDataFrame.__getitem__\u001B[1;34m(self, key)\u001B[0m\n\u001B[0;32m   3894\u001B[0m \u001B[38;5;28;01mif\u001B[39;00m \u001B[38;5;28mself\u001B[39m\u001B[38;5;241m.\u001B[39mcolumns\u001B[38;5;241m.\u001B[39mnlevels \u001B[38;5;241m>\u001B[39m \u001B[38;5;241m1\u001B[39m:\n\u001B[0;32m   3895\u001B[0m     \u001B[38;5;28;01mreturn\u001B[39;00m \u001B[38;5;28mself\u001B[39m\u001B[38;5;241m.\u001B[39m_getitem_multilevel(key)\n\u001B[1;32m-> 3896\u001B[0m indexer \u001B[38;5;241m=\u001B[39m \u001B[38;5;28mself\u001B[39m\u001B[38;5;241m.\u001B[39mcolumns\u001B[38;5;241m.\u001B[39mget_loc(key)\n\u001B[0;32m   3897\u001B[0m \u001B[38;5;28;01mif\u001B[39;00m is_integer(indexer):\n\u001B[0;32m   3898\u001B[0m     indexer \u001B[38;5;241m=\u001B[39m [indexer]\n",
      "File \u001B[1;32m~\\AppData\\Roaming\\Python\\Python312\\site-packages\\pandas\\core\\indexes\\base.py:3797\u001B[0m, in \u001B[0;36mIndex.get_loc\u001B[1;34m(self, key)\u001B[0m\n\u001B[0;32m   3792\u001B[0m     \u001B[38;5;28;01mif\u001B[39;00m \u001B[38;5;28misinstance\u001B[39m(casted_key, \u001B[38;5;28mslice\u001B[39m) \u001B[38;5;129;01mor\u001B[39;00m (\n\u001B[0;32m   3793\u001B[0m         \u001B[38;5;28misinstance\u001B[39m(casted_key, abc\u001B[38;5;241m.\u001B[39mIterable)\n\u001B[0;32m   3794\u001B[0m         \u001B[38;5;129;01mand\u001B[39;00m \u001B[38;5;28many\u001B[39m(\u001B[38;5;28misinstance\u001B[39m(x, \u001B[38;5;28mslice\u001B[39m) \u001B[38;5;28;01mfor\u001B[39;00m x \u001B[38;5;129;01min\u001B[39;00m casted_key)\n\u001B[0;32m   3795\u001B[0m     ):\n\u001B[0;32m   3796\u001B[0m         \u001B[38;5;28;01mraise\u001B[39;00m InvalidIndexError(key)\n\u001B[1;32m-> 3797\u001B[0m     \u001B[38;5;28;01mraise\u001B[39;00m \u001B[38;5;167;01mKeyError\u001B[39;00m(key) \u001B[38;5;28;01mfrom\u001B[39;00m \u001B[38;5;21;01merr\u001B[39;00m\n\u001B[0;32m   3798\u001B[0m \u001B[38;5;28;01mexcept\u001B[39;00m \u001B[38;5;167;01mTypeError\u001B[39;00m:\n\u001B[0;32m   3799\u001B[0m     \u001B[38;5;66;03m# If we have a listlike key, _check_indexing_error will raise\u001B[39;00m\n\u001B[0;32m   3800\u001B[0m     \u001B[38;5;66;03m#  InvalidIndexError. Otherwise we fall through and re-raise\u001B[39;00m\n\u001B[0;32m   3801\u001B[0m     \u001B[38;5;66;03m#  the TypeError.\u001B[39;00m\n\u001B[0;32m   3802\u001B[0m     \u001B[38;5;28mself\u001B[39m\u001B[38;5;241m.\u001B[39m_check_indexing_error(key)\n",
      "\u001B[1;31mKeyError\u001B[0m: 'year'"
     ]
    }
   ],
   "source": [
    "regression_df\n"
   ],
   "metadata": {
    "collapsed": false,
    "ExecuteTime": {
     "end_time": "2024-08-08T23:36:57.971724400Z",
     "start_time": "2024-08-08T23:36:57.776842600Z"
    }
   },
   "id": "8d7a9ef5fca69013",
   "execution_count": 308
  },
  {
   "cell_type": "code",
   "outputs": [],
   "source": [
    "# List of columns to keep\n",
    "columns_to_keep = ['ir', 'TREATED', 'firmscope', 'intheset', 'int1c','id','mydate', 'year', 'firm_age', 'age', 'aum_firm', 'aum_y', ] + \\\n",
    "                  [f'sz_q{i}' for i in range(10)] + \\\n",
    "                  [f'scope_q{i}' for i in range(1, 5)] + \\\n",
    "                  [f'age_q{i}' for i in range(10)] + \\\n",
    "                  [f'firmsz_q{i}' for i in range(10)] + \\\n",
    "                  [f'firmage_q{i}' for i in range(10)] + \\\n",
    "    [f'year_dum_{i}' for i in range(1994, 2012)]\n",
    "                \n",
    "\n",
    "# Select the specified columns from the dataframe\n",
    "selected_data = regression_df[columns_to_keep]\n",
    "\n",
    "# Save the new dataset to a CSV file\n",
    "selected_data.to_csv('pure_regression.csv', index=False)"
   ],
   "metadata": {
    "collapsed": false,
    "ExecuteTime": {
     "end_time": "2024-08-08T23:44:10.558306600Z",
     "start_time": "2024-08-08T23:44:06.601029500Z"
    }
   },
   "id": "561990cd61b8a205",
   "execution_count": 325
  },
  {
   "cell_type": "code",
   "outputs": [
    {
     "data": {
      "text/plain": "             ir  TREATED  firmscope  intheset  int1c       id    mydate  \\\n0     -0.010104        0        1.0       1.0    0.0   4561.0  00000526   \n1      0.100427        0        1.0       1.0    0.0   4561.0  00000527   \n2      0.015879        0        2.0       1.0    0.0   4561.0  00000528   \n3     -0.010346        0        2.0       1.0    0.0   5221.0  00000528   \n4      0.029113        0        2.0       1.0    0.0   4561.0  00000529   \n...         ...      ...        ...       ...    ...      ...       ...   \n94306  0.312140        0        1.0       1.0    0.0  25306.0  00000613   \n94307  0.498313        0        1.0       1.0    0.0  25306.0  00000614   \n94308  0.489615        0        1.0       1.0    0.0  25306.0  00000615   \n94309  0.312020        0        1.0       1.0    0.0  25306.0  00000616   \n94310  0.332836        0        1.0       1.0    0.0  25306.0  00000617   \n\n       sz_q0  sz_q1  sz_q2  ...  year_dum_2002  year_dum_2003  year_dum_2004  \\\n0        0.0    1.0    0.0  ...            0.0            1.0            0.0   \n1        0.0    0.0    1.0  ...            0.0            1.0            0.0   \n2        0.5    0.0    0.5  ...            0.0            0.0            1.0   \n3        0.5    0.0    0.5  ...            0.0            0.0            1.0   \n4        0.5    0.0    0.5  ...            0.0            0.0            1.0   \n...      ...    ...    ...  ...            ...            ...            ...   \n94306    0.0    0.0    0.0  ...            0.0            0.0            0.0   \n94307    0.0    0.0    0.0  ...            0.0            0.0            0.0   \n94308    0.0    0.0    0.0  ...            0.0            0.0            0.0   \n94309    0.0    0.0    0.0  ...            0.0            0.0            0.0   \n94310    0.0    0.0    0.0  ...            0.0            0.0            0.0   \n\n       year_dum_2005  year_dum_2006  year_dum_2007  year_dum_2008  \\\n0                0.0            0.0            0.0            0.0   \n1                0.0            0.0            0.0            0.0   \n2                0.0            0.0            0.0            0.0   \n3                0.0            0.0            0.0            0.0   \n4                0.0            0.0            0.0            0.0   \n...              ...            ...            ...            ...   \n94306            0.0            0.0            0.0            0.0   \n94307            0.0            0.0            0.0            0.0   \n94308            0.0            0.0            0.0            0.0   \n94309            0.0            0.0            0.0            0.0   \n94310            0.0            0.0            0.0            0.0   \n\n       year_dum_2009  year_dum_2010  year_dum_2011  \n0                0.0            0.0            0.0  \n1                0.0            0.0            0.0  \n2                0.0            0.0            0.0  \n3                0.0            0.0            0.0  \n4                0.0            0.0            0.0  \n...              ...            ...            ...  \n94306            0.0            0.0            1.0  \n94307            0.0            0.0            1.0  \n94308            0.0            0.0            1.0  \n94309            0.0            0.0            1.0  \n94310            0.0            0.0            1.0  \n\n[94311 rows x 69 columns]",
      "text/html": "<div>\n<style scoped>\n    .dataframe tbody tr th:only-of-type {\n        vertical-align: middle;\n    }\n\n    .dataframe tbody tr th {\n        vertical-align: top;\n    }\n\n    .dataframe thead th {\n        text-align: right;\n    }\n</style>\n<table border=\"1\" class=\"dataframe\">\n  <thead>\n    <tr style=\"text-align: right;\">\n      <th></th>\n      <th>ir</th>\n      <th>TREATED</th>\n      <th>firmscope</th>\n      <th>intheset</th>\n      <th>int1c</th>\n      <th>id</th>\n      <th>mydate</th>\n      <th>sz_q0</th>\n      <th>sz_q1</th>\n      <th>sz_q2</th>\n      <th>...</th>\n      <th>year_dum_2002</th>\n      <th>year_dum_2003</th>\n      <th>year_dum_2004</th>\n      <th>year_dum_2005</th>\n      <th>year_dum_2006</th>\n      <th>year_dum_2007</th>\n      <th>year_dum_2008</th>\n      <th>year_dum_2009</th>\n      <th>year_dum_2010</th>\n      <th>year_dum_2011</th>\n    </tr>\n  </thead>\n  <tbody>\n    <tr>\n      <th>0</th>\n      <td>-0.010104</td>\n      <td>0</td>\n      <td>1.0</td>\n      <td>1.0</td>\n      <td>0.0</td>\n      <td>4561.0</td>\n      <td>00000526</td>\n      <td>0.0</td>\n      <td>1.0</td>\n      <td>0.0</td>\n      <td>...</td>\n      <td>0.0</td>\n      <td>1.0</td>\n      <td>0.0</td>\n      <td>0.0</td>\n      <td>0.0</td>\n      <td>0.0</td>\n      <td>0.0</td>\n      <td>0.0</td>\n      <td>0.0</td>\n      <td>0.0</td>\n    </tr>\n    <tr>\n      <th>1</th>\n      <td>0.100427</td>\n      <td>0</td>\n      <td>1.0</td>\n      <td>1.0</td>\n      <td>0.0</td>\n      <td>4561.0</td>\n      <td>00000527</td>\n      <td>0.0</td>\n      <td>0.0</td>\n      <td>1.0</td>\n      <td>...</td>\n      <td>0.0</td>\n      <td>1.0</td>\n      <td>0.0</td>\n      <td>0.0</td>\n      <td>0.0</td>\n      <td>0.0</td>\n      <td>0.0</td>\n      <td>0.0</td>\n      <td>0.0</td>\n      <td>0.0</td>\n    </tr>\n    <tr>\n      <th>2</th>\n      <td>0.015879</td>\n      <td>0</td>\n      <td>2.0</td>\n      <td>1.0</td>\n      <td>0.0</td>\n      <td>4561.0</td>\n      <td>00000528</td>\n      <td>0.5</td>\n      <td>0.0</td>\n      <td>0.5</td>\n      <td>...</td>\n      <td>0.0</td>\n      <td>0.0</td>\n      <td>1.0</td>\n      <td>0.0</td>\n      <td>0.0</td>\n      <td>0.0</td>\n      <td>0.0</td>\n      <td>0.0</td>\n      <td>0.0</td>\n      <td>0.0</td>\n    </tr>\n    <tr>\n      <th>3</th>\n      <td>-0.010346</td>\n      <td>0</td>\n      <td>2.0</td>\n      <td>1.0</td>\n      <td>0.0</td>\n      <td>5221.0</td>\n      <td>00000528</td>\n      <td>0.5</td>\n      <td>0.0</td>\n      <td>0.5</td>\n      <td>...</td>\n      <td>0.0</td>\n      <td>0.0</td>\n      <td>1.0</td>\n      <td>0.0</td>\n      <td>0.0</td>\n      <td>0.0</td>\n      <td>0.0</td>\n      <td>0.0</td>\n      <td>0.0</td>\n      <td>0.0</td>\n    </tr>\n    <tr>\n      <th>4</th>\n      <td>0.029113</td>\n      <td>0</td>\n      <td>2.0</td>\n      <td>1.0</td>\n      <td>0.0</td>\n      <td>4561.0</td>\n      <td>00000529</td>\n      <td>0.5</td>\n      <td>0.0</td>\n      <td>0.5</td>\n      <td>...</td>\n      <td>0.0</td>\n      <td>0.0</td>\n      <td>1.0</td>\n      <td>0.0</td>\n      <td>0.0</td>\n      <td>0.0</td>\n      <td>0.0</td>\n      <td>0.0</td>\n      <td>0.0</td>\n      <td>0.0</td>\n    </tr>\n    <tr>\n      <th>...</th>\n      <td>...</td>\n      <td>...</td>\n      <td>...</td>\n      <td>...</td>\n      <td>...</td>\n      <td>...</td>\n      <td>...</td>\n      <td>...</td>\n      <td>...</td>\n      <td>...</td>\n      <td>...</td>\n      <td>...</td>\n      <td>...</td>\n      <td>...</td>\n      <td>...</td>\n      <td>...</td>\n      <td>...</td>\n      <td>...</td>\n      <td>...</td>\n      <td>...</td>\n      <td>...</td>\n    </tr>\n    <tr>\n      <th>94306</th>\n      <td>0.312140</td>\n      <td>0</td>\n      <td>1.0</td>\n      <td>1.0</td>\n      <td>0.0</td>\n      <td>25306.0</td>\n      <td>00000613</td>\n      <td>0.0</td>\n      <td>0.0</td>\n      <td>0.0</td>\n      <td>...</td>\n      <td>0.0</td>\n      <td>0.0</td>\n      <td>0.0</td>\n      <td>0.0</td>\n      <td>0.0</td>\n      <td>0.0</td>\n      <td>0.0</td>\n      <td>0.0</td>\n      <td>0.0</td>\n      <td>1.0</td>\n    </tr>\n    <tr>\n      <th>94307</th>\n      <td>0.498313</td>\n      <td>0</td>\n      <td>1.0</td>\n      <td>1.0</td>\n      <td>0.0</td>\n      <td>25306.0</td>\n      <td>00000614</td>\n      <td>0.0</td>\n      <td>0.0</td>\n      <td>0.0</td>\n      <td>...</td>\n      <td>0.0</td>\n      <td>0.0</td>\n      <td>0.0</td>\n      <td>0.0</td>\n      <td>0.0</td>\n      <td>0.0</td>\n      <td>0.0</td>\n      <td>0.0</td>\n      <td>0.0</td>\n      <td>1.0</td>\n    </tr>\n    <tr>\n      <th>94308</th>\n      <td>0.489615</td>\n      <td>0</td>\n      <td>1.0</td>\n      <td>1.0</td>\n      <td>0.0</td>\n      <td>25306.0</td>\n      <td>00000615</td>\n      <td>0.0</td>\n      <td>0.0</td>\n      <td>0.0</td>\n      <td>...</td>\n      <td>0.0</td>\n      <td>0.0</td>\n      <td>0.0</td>\n      <td>0.0</td>\n      <td>0.0</td>\n      <td>0.0</td>\n      <td>0.0</td>\n      <td>0.0</td>\n      <td>0.0</td>\n      <td>1.0</td>\n    </tr>\n    <tr>\n      <th>94309</th>\n      <td>0.312020</td>\n      <td>0</td>\n      <td>1.0</td>\n      <td>1.0</td>\n      <td>0.0</td>\n      <td>25306.0</td>\n      <td>00000616</td>\n      <td>0.0</td>\n      <td>0.0</td>\n      <td>0.0</td>\n      <td>...</td>\n      <td>0.0</td>\n      <td>0.0</td>\n      <td>0.0</td>\n      <td>0.0</td>\n      <td>0.0</td>\n      <td>0.0</td>\n      <td>0.0</td>\n      <td>0.0</td>\n      <td>0.0</td>\n      <td>1.0</td>\n    </tr>\n    <tr>\n      <th>94310</th>\n      <td>0.332836</td>\n      <td>0</td>\n      <td>1.0</td>\n      <td>1.0</td>\n      <td>0.0</td>\n      <td>25306.0</td>\n      <td>00000617</td>\n      <td>0.0</td>\n      <td>0.0</td>\n      <td>0.0</td>\n      <td>...</td>\n      <td>0.0</td>\n      <td>0.0</td>\n      <td>0.0</td>\n      <td>0.0</td>\n      <td>0.0</td>\n      <td>0.0</td>\n      <td>0.0</td>\n      <td>0.0</td>\n      <td>0.0</td>\n      <td>1.0</td>\n    </tr>\n  </tbody>\n</table>\n<p>94311 rows × 69 columns</p>\n</div>"
     },
     "execution_count": 304,
     "metadata": {},
     "output_type": "execute_result"
    }
   ],
   "source": [
    "selected_data"
   ],
   "metadata": {
    "collapsed": false,
    "ExecuteTime": {
     "end_time": "2024-08-08T11:42:14.661905700Z",
     "start_time": "2024-08-08T11:42:14.508347300Z"
    }
   },
   "id": "c0e25a8a5f3b2b33",
   "execution_count": 304
  },
  {
   "cell_type": "code",
   "outputs": [],
   "source": [],
   "metadata": {
    "collapsed": false
   },
   "id": "fa4b8acf518786d2"
  },
  {
   "cell_type": "code",
   "outputs": [],
   "source": [
    "sumstats = regression_df.describe()\n",
    "sumstats.to_csv('sumstats.csv')"
   ],
   "metadata": {
    "collapsed": false,
    "ExecuteTime": {
     "end_time": "2024-08-07T17:02:57.147925300Z",
     "start_time": "2024-08-07T17:02:56.584243200Z"
    }
   },
   "id": "6ea2c929d36f4b41",
   "execution_count": 167
  },
  {
   "cell_type": "code",
   "outputs": [
    {
     "name": "stdout",
     "output_type": "stream",
     "text": [
      "                            OLS Regression Results                            \n",
      "==============================================================================\n",
      "Dep. Variable:                     ir   R-squared:                       0.042\n",
      "Model:                            OLS   Adj. R-squared:                  0.041\n",
      "Method:                 Least Squares   F-statistic:                 2.017e-15\n",
      "Date:                Thu, 08 Aug 2024   Prob (F-statistic):               1.00\n",
      "Time:                        12:14:48   Log-Likelihood:            -1.4659e+05\n",
      "No. Observations:               94311   AIC:                         2.933e+05\n",
      "Df Residuals:                   94263   BIC:                         2.937e+05\n",
      "Df Model:                          47                                         \n",
      "Covariance Type:              cluster                                         \n",
      "=================================================================================\n",
      "                    coef    std err          z      P>|z|      [0.025      0.975]\n",
      "---------------------------------------------------------------------------------\n",
      "Intercept      1.062e+11        nan        nan        nan         nan         nan\n",
      "TREATED           0.2245        nan        nan        nan         nan         nan\n",
      "sz_q1             0.0513        nan        nan        nan         nan         nan\n",
      "sz_q2             0.1483        nan        nan        nan         nan         nan\n",
      "sz_q3            -0.1134        nan        nan        nan         nan         nan\n",
      "sz_q4            -0.0299        nan        nan        nan         nan         nan\n",
      "sz_q5            -0.0434        nan        nan        nan         nan         nan\n",
      "sz_q6            -0.1092        nan        nan        nan         nan         nan\n",
      "sz_q7            -0.1267        nan        nan        nan         nan         nan\n",
      "sz_q8            -0.1203   5.09e+04  -2.37e-06      1.000   -9.97e+04    9.97e+04\n",
      "sz_q9            -0.1551   4.57e+04  -3.39e-06      1.000   -8.95e+04    8.95e+04\n",
      "scope_q1       5.504e+10        nan        nan        nan         nan         nan\n",
      "scope_q2         -0.0101        nan        nan        nan         nan         nan\n",
      "scope_q3       5.504e+10        nan        nan        nan         nan         nan\n",
      "scope_q4       5.504e+10        nan        nan        nan         nan         nan\n",
      "age_q1           -0.0490        nan        nan        nan         nan         nan\n",
      "age_q2           -0.1097        nan        nan        nan         nan         nan\n",
      "age_q3           -0.1666        nan        nan        nan         nan         nan\n",
      "age_q4           -0.2985        nan        nan        nan         nan         nan\n",
      "age_q5           -0.4859        nan        nan        nan         nan         nan\n",
      "age_q6           -0.4812        nan        nan        nan         nan         nan\n",
      "age_q7           -0.4248        nan        nan        nan         nan         nan\n",
      "age_q8           -0.3075        nan        nan        nan         nan         nan\n",
      "age_q9           -0.3721        nan        nan        nan         nan         nan\n",
      "firmsz_q0     -1.447e+10        nan        nan        nan         nan         nan\n",
      "firmsz_q1     -1.447e+10        nan        nan        nan         nan         nan\n",
      "firmsz_q2     -1.447e+10        nan        nan        nan         nan         nan\n",
      "firmsz_q3     -1.447e+10        nan        nan        nan         nan         nan\n",
      "firmsz_q4     -1.447e+10        nan        nan        nan         nan         nan\n",
      "firmsz_q5     -1.447e+10        nan        nan        nan         nan         nan\n",
      "firmsz_q6     -1.447e+10        nan        nan        nan         nan         nan\n",
      "firmsz_q7     -1.447e+10        nan        nan        nan         nan         nan\n",
      "firmsz_q8     -1.447e+10        nan        nan        nan         nan         nan\n",
      "firmsz_q9     -1.447e+10        nan        nan        nan         nan         nan\n",
      "year_dum_1994 -1.468e+11   6.45e+17  -2.27e-07      1.000   -1.27e+18    1.27e+18\n",
      "year_dum_1995 -1.468e+11        nan        nan        nan         nan         nan\n",
      "year_dum_1996 -1.468e+11   6.72e+17  -2.18e-07      1.000   -1.32e+18    1.32e+18\n",
      "year_dum_1997 -1.468e+11        nan        nan        nan         nan         nan\n",
      "year_dum_1998 -1.468e+11        nan        nan        nan         nan         nan\n",
      "year_dum_1999 -1.468e+11    1.5e+18  -9.78e-08      1.000   -2.94e+18    2.94e+18\n",
      "year_dum_2000 -1.468e+11        nan        nan        nan         nan         nan\n",
      "year_dum_2001 -1.468e+11        nan        nan        nan         nan         nan\n",
      "year_dum_2002 -1.468e+11        nan        nan        nan         nan         nan\n",
      "year_dum_2003 -1.468e+11        nan        nan        nan         nan         nan\n",
      "year_dum_2004 -1.468e+11   1.36e+18  -1.08e-07      1.000   -2.66e+18    2.66e+18\n",
      "year_dum_2005 -1.468e+11        nan        nan        nan         nan         nan\n",
      "year_dum_2006 -1.468e+11        nan        nan        nan         nan         nan\n",
      "year_dum_2007 -1.468e+11        nan        nan        nan         nan         nan\n",
      "year_dum_2008  4.448e+07        nan        nan        nan         nan         nan\n",
      "year_dum_2009 -1.468e+11        nan        nan        nan         nan         nan\n",
      "year_dum_2010 -1.468e+11        nan        nan        nan         nan         nan\n",
      "year_dum_2011 -1.468e+11        nan        nan        nan         nan         nan\n",
      "==============================================================================\n",
      "Omnibus:                    25450.251   Durbin-Watson:                   0.744\n",
      "Prob(Omnibus):                  0.000   Jarque-Bera (JB):           348347.302\n",
      "Skew:                           0.919   Prob(JB):                         0.00\n",
      "Kurtosis:                      12.234   Cond. No.                     1.35e+16\n",
      "==============================================================================\n",
      "\n",
      "Notes:\n",
      "[1] Standard Errors are robust to cluster correlation (cluster)\n",
      "[2] The smallest eigenvalue is 1.25e-27. This might indicate that there are\n",
      "strong multicollinearity problems or that the design matrix is singular.\n"
     ]
    },
    {
     "name": "stderr",
     "output_type": "stream",
     "text": [
      "C:\\ProgramData\\anaconda3\\Lib\\site-packages\\statsmodels\\base\\model.py:1894: ValueWarning: covariance of constraints does not have full rank. The number of constraints is 51, but rank is 3\n",
      "  warnings.warn('covariance of constraints does not have full '\n",
      "C:\\ProgramData\\anaconda3\\Lib\\site-packages\\statsmodels\\regression\\linear_model.py:1885: RuntimeWarning: invalid value encountered in sqrt\n",
      "  return np.sqrt(np.diag(self.cov_params()))\n"
     ]
    }
   ],
   "source": [
    "\n",
    "\n",
    "# Additional regressions as needed\n",
    "# Regression model with absorb(id)\n",
    "model_absorb = smf.ols('ir ~ TREATED + ' +\n",
    "                       ' + '.join([f'sz_q{i}' for i in range(1, 10)]) + ' + ' +\n",
    "                       ' + '.join([f'scope_q{i}' for i in range(1, 5)]) + ' + ' +\n",
    "                       ' + '.join([f'age_q{i}' for i in range(1, 10)]) + ' + ' +\n",
    "                       ' + '.join([f'firmsz_q{i}' for i in range(10)]) + ' + ' +\n",
    "                       # ' + '.join([f'firmage_q{i}' for i in range(10)]),\n",
    "                       ' + '.join([f'year_dum_{i}' for i in range(1994, 2012)]),\n",
    "                       data=regression_df[(regression_df['intheset'] == 1) & (regression_df['mydate'].astype(int) <= 617) & (regression_df['firmscope'] < 50)]).fit(cov_type='cluster', cov_kwds={'groups': regression_df['id']})\n",
    "\n",
    "print(model_absorb.summary())"
   ],
   "metadata": {
    "collapsed": false,
    "ExecuteTime": {
     "end_time": "2024-08-08T11:14:49.262068700Z",
     "start_time": "2024-08-08T11:14:46.858392100Z"
    }
   },
   "id": "173012068fb56756",
   "execution_count": 299
  },
  {
   "cell_type": "code",
   "outputs": [
    {
     "name": "stderr",
     "output_type": "stream",
     "text": [
      "C:\\ProgramData\\anaconda3\\Lib\\site-packages\\statsmodels\\base\\model.py:1894: ValueWarning: covariance of constraints does not have full rank. The number of constraints is 43, but rank is 3\n",
      "  warnings.warn('covariance of constraints does not have full '\n",
      "C:\\ProgramData\\anaconda3\\Lib\\site-packages\\statsmodels\\regression\\linear_model.py:1885: RuntimeWarning: invalid value encountered in sqrt\n",
      "  return np.sqrt(np.diag(self.cov_params()))\n"
     ]
    },
    {
     "name": "stdout",
     "output_type": "stream",
     "text": [
      "                            OLS Regression Results                            \n",
      "==============================================================================\n",
      "Dep. Variable:                     ir   R-squared:                       0.031\n",
      "Model:                            OLS   Adj. R-squared:                  0.031\n",
      "Method:                 Least Squares   F-statistic:                -3.451e-17\n",
      "Date:                Thu, 08 Aug 2024   Prob (F-statistic):               1.00\n",
      "Time:                        12:14:05   Log-Likelihood:            -1.4710e+05\n",
      "No. Observations:               94311   AIC:                         2.943e+05\n",
      "Df Residuals:                   94270   BIC:                         2.947e+05\n",
      "Df Model:                          40                                         \n",
      "Covariance Type:              cluster                                         \n",
      "==============================================================================\n",
      "                 coef    std err          z      P>|z|      [0.025      0.975]\n",
      "------------------------------------------------------------------------------\n",
      "Intercept   -3.29e+10   1.72e+19  -1.91e-09      1.000   -3.38e+19    3.38e+19\n",
      "TREATED        0.1489   6.26e+04   2.38e-06      1.000   -1.23e+05    1.23e+05\n",
      "sz_q1          0.0474        nan        nan        nan         nan         nan\n",
      "sz_q2          0.1444        nan        nan        nan         nan         nan\n",
      "sz_q3         -0.0918        nan        nan        nan         nan         nan\n",
      "sz_q4          0.0070        nan        nan        nan         nan         nan\n",
      "sz_q5         -0.0149        nan        nan        nan         nan         nan\n",
      "sz_q6         -0.0728        nan        nan        nan         nan         nan\n",
      "sz_q7         -0.0729        nan        nan        nan         nan         nan\n",
      "sz_q8         -0.0804        nan        nan        nan         nan         nan\n",
      "sz_q9         -0.1314        nan        nan        nan         nan         nan\n",
      "scope_q1     4.39e+10    7.7e+18    5.7e-09      1.000   -1.51e+19    1.51e+19\n",
      "scope_q2       0.0015   6.36e+04   2.42e-08      1.000   -1.25e+05    1.25e+05\n",
      "scope_q3     4.39e+10   9.06e+18   4.84e-09      1.000   -1.78e+19    1.78e+19\n",
      "scope_q4     4.39e+10   7.95e+17   5.52e-08      1.000   -1.56e+18    1.56e+18\n",
      "age_q1        -0.0306   3239.043  -9.46e-06      1.000   -6348.438    6348.376\n",
      "age_q2        -0.1620   5.07e+04  -3.19e-06      1.000   -9.95e+04    9.95e+04\n",
      "age_q3        -0.2462        nan        nan        nan         nan         nan\n",
      "age_q4        -0.4327   1.27e+04  -3.42e-05      1.000   -2.48e+04    2.48e+04\n",
      "age_q5        -0.7147        nan        nan        nan         nan         nan\n",
      "age_q6        -0.7662   2.17e+04  -3.53e-05      1.000   -4.25e+04    4.25e+04\n",
      "age_q7        -0.7294        nan        nan        nan         nan         nan\n",
      "age_q8        -0.6338   6804.993  -9.31e-05      1.000   -1.33e+04    1.33e+04\n",
      "age_q9        -0.6088        nan        nan        nan         nan         nan\n",
      "firmsz_q0   3.197e+10        nan        nan        nan         nan         nan\n",
      "firmsz_q1   3.197e+10        nan        nan        nan         nan         nan\n",
      "firmsz_q2   3.197e+10        nan        nan        nan         nan         nan\n",
      "firmsz_q3   3.197e+10        nan        nan        nan         nan         nan\n",
      "firmsz_q4   3.197e+10        nan        nan        nan         nan         nan\n",
      "firmsz_q5   3.197e+10        nan        nan        nan         nan         nan\n",
      "firmsz_q6   3.197e+10        nan        nan        nan         nan         nan\n",
      "firmsz_q7   3.197e+10        nan        nan        nan         nan         nan\n",
      "firmsz_q8   3.197e+10        nan        nan        nan         nan         nan\n",
      "firmsz_q9   3.197e+10        nan        nan        nan         nan         nan\n",
      "firmage_q0 -4.296e+10        nan        nan        nan         nan         nan\n",
      "firmage_q1 -4.296e+10   1.86e+18   -2.3e-08      1.000   -3.65e+18    3.65e+18\n",
      "firmage_q2 -4.296e+10   2.37e+18  -1.81e-08      1.000   -4.64e+18    4.64e+18\n",
      "firmage_q3 -4.296e+10   2.08e+18  -2.07e-08      1.000   -4.08e+18    4.08e+18\n",
      "firmage_q4 -4.296e+10   1.47e+18  -2.93e-08      1.000   -2.88e+18    2.88e+18\n",
      "firmage_q5 -4.296e+10   1.93e+18  -2.23e-08      1.000   -3.78e+18    3.78e+18\n",
      "firmage_q6 -4.296e+10   1.39e+18   -3.1e-08      1.000   -2.72e+18    2.72e+18\n",
      "firmage_q7 -4.296e+10   1.77e+18  -2.43e-08      1.000   -3.46e+18    3.46e+18\n",
      "firmage_q8 -4.296e+10   1.27e+18  -3.39e-08      1.000   -2.49e+18    2.49e+18\n",
      "firmage_q9 -4.296e+10   1.44e+18  -2.98e-08      1.000   -2.83e+18    2.83e+18\n",
      "==============================================================================\n",
      "Omnibus:                    26150.329   Durbin-Watson:                   0.733\n",
      "Prob(Omnibus):                  0.000   Jarque-Bera (JB):           360756.913\n",
      "Skew:                           0.952   Prob(JB):                         0.00\n",
      "Kurtosis:                      12.390   Cond. No.                     5.32e+14\n",
      "==============================================================================\n",
      "\n",
      "Notes:\n",
      "[1] Standard Errors are robust to cluster correlation (cluster)\n",
      "[2] The smallest eigenvalue is 8.14e-25. This might indicate that there are\n",
      "strong multicollinearity problems or that the design matrix is singular.\n"
     ]
    },
    {
     "name": "stderr",
     "output_type": "stream",
     "text": [
      "C:\\ProgramData\\anaconda3\\Lib\\site-packages\\statsmodels\\base\\model.py:1894: ValueWarning: covariance of constraints does not have full rank. The number of constraints is 62, but rank is 4\n",
      "  warnings.warn('covariance of constraints does not have full '\n",
      "C:\\ProgramData\\anaconda3\\Lib\\site-packages\\statsmodels\\regression\\linear_model.py:1885: RuntimeWarning: invalid value encountered in sqrt\n",
      "  return np.sqrt(np.diag(self.cov_params()))\n"
     ]
    },
    {
     "name": "stdout",
     "output_type": "stream",
     "text": [
      "                            OLS Regression Results                            \n",
      "==============================================================================\n",
      "Dep. Variable:                     ir   R-squared:                       0.044\n",
      "Model:                            OLS   Adj. R-squared:                  0.043\n",
      "Method:                 Least Squares   F-statistic:                -9.325e-17\n",
      "Date:                Thu, 08 Aug 2024   Prob (F-statistic):               1.00\n",
      "Time:                        12:14:06   Log-Likelihood:            -1.4649e+05\n",
      "No. Observations:               94311   AIC:                         2.931e+05\n",
      "Df Residuals:                   94253   BIC:                         2.937e+05\n",
      "Df Model:                          57                                         \n",
      "Covariance Type:              cluster                                         \n",
      "=================================================================================\n",
      "                    coef    std err          z      P>|z|      [0.025      0.975]\n",
      "---------------------------------------------------------------------------------\n",
      "Intercept        1.1e+11        nan        nan        nan         nan         nan\n",
      "TREATED           0.2706        nan        nan        nan         nan         nan\n",
      "int1c            -0.0367        nan        nan        nan         nan         nan\n",
      "sz_q1             0.0502        nan        nan        nan         nan         nan\n",
      "sz_q2             0.1514        nan        nan        nan         nan         nan\n",
      "sz_q3            -0.0930        nan        nan        nan         nan         nan\n",
      "sz_q4            -0.0067   6.18e+04  -1.09e-07      1.000   -1.21e+05    1.21e+05\n",
      "sz_q5            -0.0195   4.36e+04  -4.48e-07      1.000   -8.55e+04    8.55e+04\n",
      "sz_q6            -0.0768        nan        nan        nan         nan         nan\n",
      "sz_q7            -0.0867        nan        nan        nan         nan         nan\n",
      "sz_q8            -0.0673        nan        nan        nan         nan         nan\n",
      "sz_q9            -0.0994        nan        nan        nan         nan         nan\n",
      "scope_q1       1.022e+10        nan        nan        nan         nan         nan\n",
      "scope_q2         -0.0050        nan        nan        nan         nan         nan\n",
      "scope_q3       1.022e+10        nan        nan        nan         nan         nan\n",
      "scope_q4       1.022e+10        nan        nan        nan         nan         nan\n",
      "age_q1           -0.0504   3724.833  -1.35e-05      1.000   -7300.589    7300.489\n",
      "age_q2           -0.1820   1031.996     -0.000      1.000   -2022.856    2022.492\n",
      "age_q3           -0.2607        nan        nan        nan         nan         nan\n",
      "age_q4           -0.4329        nan        nan        nan         nan         nan\n",
      "age_q5           -0.6661        nan        nan        nan         nan         nan\n",
      "age_q6           -0.6767        nan        nan        nan         nan         nan\n",
      "age_q7           -0.6400   7.18e+04  -8.92e-06      1.000   -1.41e+05    1.41e+05\n",
      "age_q8           -0.5467        nan        nan        nan         nan         nan\n",
      "age_q9           -0.5258        nan        nan        nan         nan         nan\n",
      "firmsz_q0     -3.639e+10        nan        nan        nan         nan         nan\n",
      "firmsz_q1     -3.639e+10        nan        nan        nan         nan         nan\n",
      "firmsz_q2     -3.639e+10        nan        nan        nan         nan         nan\n",
      "firmsz_q3     -3.639e+10        nan        nan        nan         nan         nan\n",
      "firmsz_q4     -3.639e+10        nan        nan        nan         nan         nan\n",
      "firmsz_q5     -3.639e+10        nan        nan        nan         nan         nan\n",
      "firmsz_q6     -3.639e+10        nan        nan        nan         nan         nan\n",
      "firmsz_q7     -3.639e+10        nan        nan        nan         nan         nan\n",
      "firmsz_q8     -3.639e+10        nan        nan        nan         nan         nan\n",
      "firmsz_q9     -3.639e+10        nan        nan        nan         nan         nan\n",
      "firmage_q0    -1.177e+11        nan        nan        nan         nan         nan\n",
      "firmage_q1    -1.177e+11        nan        nan        nan         nan         nan\n",
      "firmage_q2    -1.177e+11        nan        nan        nan         nan         nan\n",
      "firmage_q3    -1.177e+11        nan        nan        nan         nan         nan\n",
      "firmage_q4    -1.177e+11        nan        nan        nan         nan         nan\n",
      "firmage_q5    -1.177e+11        nan        nan        nan         nan         nan\n",
      "firmage_q6    -1.177e+11        nan        nan        nan         nan         nan\n",
      "firmage_q7    -1.177e+11        nan        nan        nan         nan         nan\n",
      "firmage_q8    -1.177e+11        nan        nan        nan         nan         nan\n",
      "firmage_q9    -1.177e+11   2.19e+18  -5.37e-08      1.000    -4.3e+18     4.3e+18\n",
      "year_dum_1994  3.382e+10        nan        nan        nan         nan         nan\n",
      "year_dum_1995  3.382e+10        nan        nan        nan         nan         nan\n",
      "year_dum_1996  3.382e+10        nan        nan        nan         nan         nan\n",
      "year_dum_1997  3.382e+10        nan        nan        nan         nan         nan\n",
      "year_dum_1998  3.382e+10        nan        nan        nan         nan         nan\n",
      "year_dum_1999  3.382e+10   8.93e+17   3.79e-08      1.000   -1.75e+18    1.75e+18\n",
      "year_dum_2000  3.382e+10   3.83e+18   8.83e-09      1.000   -7.51e+18    7.51e+18\n",
      "year_dum_2001  3.382e+10        nan        nan        nan         nan         nan\n",
      "year_dum_2002  3.382e+10        nan        nan        nan         nan         nan\n",
      "year_dum_2003  3.382e+10        nan        nan        nan         nan         nan\n",
      "year_dum_2004  3.382e+10   3.43e+18   9.86e-09      1.000   -6.72e+18    6.72e+18\n",
      "year_dum_2005  3.382e+10    3.3e+18   1.02e-08      1.000   -6.47e+18    6.47e+18\n",
      "year_dum_2006  3.382e+10        nan        nan        nan         nan         nan\n",
      "year_dum_2007  3.382e+10        nan        nan        nan         nan         nan\n",
      "year_dum_2008     0.0009    841.889   1.12e-06      1.000   -1650.070    1650.072\n",
      "year_dum_2009  3.382e+10   3.44e+18   9.82e-09      1.000   -6.75e+18    6.75e+18\n",
      "year_dum_2010  3.382e+10        nan        nan        nan         nan         nan\n",
      "year_dum_2011  3.382e+10        nan        nan        nan         nan         nan\n",
      "==============================================================================\n",
      "Omnibus:                    25299.995   Durbin-Watson:                   0.742\n",
      "Prob(Omnibus):                  0.000   Jarque-Bera (JB):           347769.546\n",
      "Skew:                           0.911   Prob(JB):                         0.00\n",
      "Kurtosis:                      12.229   Cond. No.                     1.33e+16\n",
      "==============================================================================\n",
      "\n",
      "Notes:\n",
      "[1] Standard Errors are robust to cluster correlation (cluster)\n",
      "[2] The smallest eigenvalue is 1.34e-27. This might indicate that there are\n",
      "strong multicollinearity problems or that the design matrix is singular.\n"
     ]
    },
    {
     "name": "stderr",
     "output_type": "stream",
     "text": [
      "C:\\ProgramData\\anaconda3\\Lib\\site-packages\\statsmodels\\base\\model.py:1894: ValueWarning: covariance of constraints does not have full rank. The number of constraints is 60, but rank is 58\n",
      "  warnings.warn('covariance of constraints does not have full '\n"
     ]
    },
    {
     "name": "stdout",
     "output_type": "stream",
     "text": [
      "                            OLS Regression Results                            \n",
      "==============================================================================\n",
      "Dep. Variable:                     ir   R-squared:                       0.044\n",
      "Model:                            OLS   Adj. R-squared:                  0.043\n",
      "Method:                 Least Squares   F-statistic:                     5.900\n",
      "Date:                Thu, 08 Aug 2024   Prob (F-statistic):           1.68e-35\n",
      "Time:                        12:14:10   Log-Likelihood:            -1.4649e+05\n",
      "No. Observations:               94311   AIC:                         2.931e+05\n",
      "Df Residuals:                   94253   BIC:                         2.936e+05\n",
      "Df Model:                          57                                         \n",
      "Covariance Type:              cluster                                         \n",
      "=================================================================================\n",
      "                    coef    std err          z      P>|z|      [0.025      0.975]\n",
      "---------------------------------------------------------------------------------\n",
      "Intercept         0.3405      0.096      3.565      0.000       0.153       0.528\n",
      "max_treated       0.2607      0.144      1.808      0.071      -0.022       0.543\n",
      "time_treat        0.0033      0.001      3.886      0.000       0.002       0.005\n",
      "sz_q1             0.0500      0.084      0.596      0.551      -0.114       0.215\n",
      "sz_q2             0.1515      0.098      1.539      0.124      -0.041       0.344\n",
      "sz_q3            -0.0952      0.127     -0.749      0.454      -0.344       0.154\n",
      "sz_q4            -0.0087      0.135     -0.064      0.949      -0.273       0.255\n",
      "sz_q5            -0.0219      0.132     -0.166      0.869      -0.281       0.238\n",
      "sz_q6            -0.0798      0.147     -0.543      0.587      -0.368       0.208\n",
      "sz_q7            -0.0897      0.168     -0.534      0.594      -0.419       0.240\n",
      "sz_q8            -0.0708      0.183     -0.387      0.699      -0.430       0.288\n",
      "sz_q9            -0.1041      0.200     -0.520      0.603      -0.496       0.288\n",
      "scope_q1          0.1833      0.060      3.044      0.002       0.065       0.301\n",
      "scope_q2         -0.0050      0.076     -0.065      0.948      -0.155       0.145\n",
      "scope_q3          0.1072      0.043      2.466      0.014       0.022       0.192\n",
      "scope_q4          0.0499      0.068      0.733      0.463      -0.084       0.183\n",
      "age_q1           -0.0521      0.012     -4.249      0.000      -0.076      -0.028\n",
      "age_q2           -0.1828      0.060     -3.034      0.002      -0.301      -0.065\n",
      "age_q3           -0.2613      0.070     -3.744      0.000      -0.398      -0.124\n",
      "age_q4           -0.4335      0.084     -5.149      0.000      -0.598      -0.268\n",
      "age_q5           -0.6639      0.103     -6.431      0.000      -0.866      -0.462\n",
      "age_q6           -0.6744      0.115     -5.855      0.000      -0.900      -0.449\n",
      "age_q7           -0.6399      0.124     -5.152      0.000      -0.883      -0.396\n",
      "age_q8           -0.5458      0.130     -4.191      0.000      -0.801      -0.291\n",
      "age_q9           -0.5236      0.142     -3.685      0.000      -0.802      -0.245\n",
      "firmsz_q1        -0.1237      0.086     -1.433      0.152      -0.293       0.046\n",
      "firmsz_q2         0.1142      0.133      0.862      0.389      -0.146       0.374\n",
      "firmsz_q3         0.0359      0.132      0.272      0.786      -0.223       0.294\n",
      "firmsz_q4         0.1123      0.139      0.809      0.419      -0.160       0.384\n",
      "firmsz_q5         0.0618      0.158      0.391      0.696      -0.248       0.372\n",
      "firmsz_q6         0.0622      0.179      0.348      0.728      -0.288       0.413\n",
      "firmsz_q7         0.1445      0.192      0.753      0.451      -0.231       0.520\n",
      "firmsz_q8         0.1499      0.204      0.735      0.463      -0.250       0.550\n",
      "firmsz_q9         0.1801      0.216      0.834      0.405      -0.243       0.604\n",
      "firmage_q1        0.0987      0.070      1.409      0.159      -0.039       0.236\n",
      "firmage_q2        0.1819      0.097      1.879      0.060      -0.008       0.372\n",
      "firmage_q3        0.2510      0.122      2.064      0.039       0.013       0.489\n",
      "firmage_q4        0.2620      0.132      1.991      0.046       0.004       0.520\n",
      "firmage_q5        0.2885      0.141      2.046      0.041       0.012       0.565\n",
      "firmage_q6        0.3260      0.145      2.253      0.024       0.042       0.610\n",
      "firmage_q7        0.3283      0.150      2.196      0.028       0.035       0.621\n",
      "firmage_q8        0.2311      0.163      1.414      0.157      -0.089       0.551\n",
      "firmage_q9        0.2105      0.175      1.204      0.228      -0.132       0.553\n",
      "year_dum_1994     0.2975      0.074      4.004      0.000       0.152       0.443\n",
      "year_dum_1995     0.2960      0.074      4.004      0.000       0.151       0.441\n",
      "year_dum_1996     0.3159      0.063      4.986      0.000       0.192       0.440\n",
      "year_dum_1997     0.3068      0.058      5.247      0.000       0.192       0.421\n",
      "year_dum_1998     0.1869      0.052      3.572      0.000       0.084       0.290\n",
      "year_dum_1999     0.2169      0.042      5.104      0.000       0.134       0.300\n",
      "year_dum_2000     0.0651      0.033      1.967      0.049       0.000       0.130\n",
      "year_dum_2001     0.0010      0.030      0.034      0.973      -0.059       0.061\n",
      "year_dum_2002    -0.0805      0.028     -2.927      0.003      -0.134      -0.027\n",
      "year_dum_2003    -0.1288      0.027     -4.847      0.000      -0.181      -0.077\n",
      "year_dum_2004    -0.0476      0.032     -1.484      0.138      -0.110       0.015\n",
      "year_dum_2005     0.0225      0.036      0.624      0.533      -0.048       0.093\n",
      "year_dum_2006     0.0430      0.032      1.341      0.180      -0.020       0.106\n",
      "year_dum_2007     0.0960      0.032      3.036      0.002       0.034       0.158\n",
      "year_dum_2008  8.247e-18   5.54e-18      1.488      0.137   -2.61e-18    1.91e-17\n",
      "year_dum_2009    -0.3416      0.069     -4.965      0.000      -0.476      -0.207\n",
      "year_dum_2010    -0.4078      0.073     -5.563      0.000      -0.551      -0.264\n",
      "year_dum_2011    -0.5008      0.079     -6.331      0.000      -0.656      -0.346\n",
      "==============================================================================\n",
      "Omnibus:                    25274.080   Durbin-Watson:                   0.742\n",
      "Prob(Omnibus):                  0.000   Jarque-Bera (JB):           347497.664\n",
      "Skew:                           0.909   Prob(JB):                         0.00\n",
      "Kurtosis:                      12.226   Cond. No.                     1.96e+16\n",
      "==============================================================================\n",
      "\n",
      "Notes:\n",
      "[1] Standard Errors are robust to cluster correlation (cluster)\n",
      "[2] The smallest eigenvalue is 1.09e-24. This might indicate that there are\n",
      "strong multicollinearity problems or that the design matrix is singular.\n"
     ]
    },
    {
     "name": "stderr",
     "output_type": "stream",
     "text": [
      "C:\\ProgramData\\anaconda3\\Lib\\site-packages\\statsmodels\\regression\\linear_model.py:1734: RuntimeWarning: invalid value encountered in subtract\n",
      "  return np.sum(weights * (model.endog - mean)**2)\n"
     ]
    },
    {
     "ename": "ValueError",
     "evalue": "r_matrix performs f_test for using dimensions that are asymptotically non-normal",
     "output_type": "error",
     "traceback": [
      "\u001B[1;31m---------------------------------------------------------------------------\u001B[0m",
      "\u001B[1;31mValueError\u001B[0m                                Traceback (most recent call last)",
      "Cell \u001B[1;32mIn[297], line 70\u001B[0m\n\u001B[0;32m     61\u001B[0m filtered_low_scope \u001B[38;5;241m=\u001B[39m grouped\u001B[38;5;241m.\u001B[39mfilter(\u001B[38;5;28;01mlambda\u001B[39;00m x: \u001B[38;5;28mlen\u001B[39m(x) \u001B[38;5;241m>\u001B[39m\u001B[38;5;241m=\u001B[39m \u001B[38;5;241m2\u001B[39m \u001B[38;5;129;01mand\u001B[39;00m (x[\u001B[38;5;124m'\u001B[39m\u001B[38;5;124mmax_firmscope\u001B[39m\u001B[38;5;124m'\u001B[39m] \u001B[38;5;241m<\u001B[39m median_max_firmscope)\u001B[38;5;241m.\u001B[39mall())\n\u001B[0;32m     62\u001B[0m model_subsample_review_1 \u001B[38;5;241m=\u001B[39m smf\u001B[38;5;241m.\u001B[39mols(\u001B[38;5;124m'\u001B[39m\u001B[38;5;124mfirm_ir ~ max_treated + int1c_max + int2_max + triple_int_max + \u001B[39m\u001B[38;5;124m'\u001B[39m \u001B[38;5;241m+\u001B[39m\n\u001B[0;32m     63\u001B[0m                                    \u001B[38;5;124m'\u001B[39m\u001B[38;5;124m + \u001B[39m\u001B[38;5;124m'\u001B[39m\u001B[38;5;241m.\u001B[39mjoin([\u001B[38;5;124mf\u001B[39m\u001B[38;5;124m'\u001B[39m\u001B[38;5;124msz_q\u001B[39m\u001B[38;5;132;01m{\u001B[39;00mi\u001B[38;5;132;01m}\u001B[39;00m\u001B[38;5;124m'\u001B[39m \u001B[38;5;28;01mfor\u001B[39;00m i \u001B[38;5;129;01min\u001B[39;00m \u001B[38;5;28mrange\u001B[39m(\u001B[38;5;241m1\u001B[39m, \u001B[38;5;241m10\u001B[39m)]) \u001B[38;5;241m+\u001B[39m \u001B[38;5;124m'\u001B[39m\u001B[38;5;124m + \u001B[39m\u001B[38;5;124m'\u001B[39m \u001B[38;5;241m+\u001B[39m\n\u001B[0;32m     64\u001B[0m                                    \u001B[38;5;124m'\u001B[39m\u001B[38;5;124m + \u001B[39m\u001B[38;5;124m'\u001B[39m\u001B[38;5;241m.\u001B[39mjoin([\u001B[38;5;124mf\u001B[39m\u001B[38;5;124m'\u001B[39m\u001B[38;5;124mscope_q\u001B[39m\u001B[38;5;132;01m{\u001B[39;00mi\u001B[38;5;132;01m}\u001B[39;00m\u001B[38;5;124m'\u001B[39m \u001B[38;5;28;01mfor\u001B[39;00m i \u001B[38;5;129;01min\u001B[39;00m \u001B[38;5;28mrange\u001B[39m(\u001B[38;5;241m1\u001B[39m, \u001B[38;5;241m5\u001B[39m)]) \u001B[38;5;241m+\u001B[39m \u001B[38;5;124m'\u001B[39m\u001B[38;5;124m + \u001B[39m\u001B[38;5;124m'\u001B[39m \u001B[38;5;241m+\u001B[39m\n\u001B[1;32m   (...)\u001B[0m\n\u001B[0;32m     68\u001B[0m                                    \u001B[38;5;124m'\u001B[39m\u001B[38;5;124m + \u001B[39m\u001B[38;5;124m'\u001B[39m\u001B[38;5;241m.\u001B[39mjoin([\u001B[38;5;124mf\u001B[39m\u001B[38;5;124m'\u001B[39m\u001B[38;5;124myear_dum_\u001B[39m\u001B[38;5;132;01m{\u001B[39;00mi\u001B[38;5;132;01m}\u001B[39;00m\u001B[38;5;124m'\u001B[39m \u001B[38;5;28;01mfor\u001B[39;00m i \u001B[38;5;129;01min\u001B[39;00m \u001B[38;5;28mrange\u001B[39m(\u001B[38;5;241m1994\u001B[39m, \u001B[38;5;241m2012\u001B[39m)]),\n\u001B[0;32m     69\u001B[0m                                    data\u001B[38;5;241m=\u001B[39mfiltered_low_scope)\u001B[38;5;241m.\u001B[39mfit(cov_type\u001B[38;5;241m=\u001B[39m\u001B[38;5;124m'\u001B[39m\u001B[38;5;124mcluster\u001B[39m\u001B[38;5;124m'\u001B[39m, cov_kwds\u001B[38;5;241m=\u001B[39m{\u001B[38;5;124m'\u001B[39m\u001B[38;5;124mgroups\u001B[39m\u001B[38;5;124m'\u001B[39m: filtered_low_scope[\u001B[38;5;124m'\u001B[39m\u001B[38;5;124mid\u001B[39m\u001B[38;5;124m'\u001B[39m]})\n\u001B[1;32m---> 70\u001B[0m \u001B[38;5;28mprint\u001B[39m(model_subsample_review_1\u001B[38;5;241m.\u001B[39msummary())\n\u001B[0;32m     71\u001B[0m \u001B[38;5;28;01mwith\u001B[39;00m \u001B[38;5;28mopen\u001B[39m(\u001B[38;5;124m'\u001B[39m\u001B[38;5;124mmodel_subsample_review_1_results.txt\u001B[39m\u001B[38;5;124m'\u001B[39m, \u001B[38;5;124m'\u001B[39m\u001B[38;5;124mw\u001B[39m\u001B[38;5;124m'\u001B[39m) \u001B[38;5;28;01mas\u001B[39;00m f:\n\u001B[0;32m     72\u001B[0m     f\u001B[38;5;241m.\u001B[39mwrite(model_subsample_review_1\u001B[38;5;241m.\u001B[39msummary()\u001B[38;5;241m.\u001B[39mas_text())\n",
      "File \u001B[1;32mC:\\ProgramData\\anaconda3\\Lib\\site-packages\\statsmodels\\regression\\linear_model.py:2780\u001B[0m, in \u001B[0;36mRegressionResults.summary\u001B[1;34m(self, yname, xname, title, alpha, slim)\u001B[0m\n\u001B[0;32m   2773\u001B[0m     top_left\u001B[38;5;241m.\u001B[39mappend((\u001B[38;5;124m'\u001B[39m\u001B[38;5;124mCovariance Type:\u001B[39m\u001B[38;5;124m'\u001B[39m, [\u001B[38;5;28mself\u001B[39m\u001B[38;5;241m.\u001B[39mcov_type]))\n\u001B[0;32m   2775\u001B[0m rsquared_type \u001B[38;5;241m=\u001B[39m \u001B[38;5;124m'\u001B[39m\u001B[38;5;124m'\u001B[39m \u001B[38;5;28;01mif\u001B[39;00m \u001B[38;5;28mself\u001B[39m\u001B[38;5;241m.\u001B[39mk_constant \u001B[38;5;28;01melse\u001B[39;00m \u001B[38;5;124m'\u001B[39m\u001B[38;5;124m (uncentered)\u001B[39m\u001B[38;5;124m'\u001B[39m\n\u001B[0;32m   2776\u001B[0m top_right \u001B[38;5;241m=\u001B[39m [(\u001B[38;5;124m'\u001B[39m\u001B[38;5;124mR-squared\u001B[39m\u001B[38;5;124m'\u001B[39m \u001B[38;5;241m+\u001B[39m rsquared_type \u001B[38;5;241m+\u001B[39m \u001B[38;5;124m'\u001B[39m\u001B[38;5;124m:\u001B[39m\u001B[38;5;124m'\u001B[39m,\n\u001B[0;32m   2777\u001B[0m               [\u001B[38;5;124m\"\u001B[39m\u001B[38;5;132;01m%#8.3f\u001B[39;00m\u001B[38;5;124m\"\u001B[39m \u001B[38;5;241m%\u001B[39m \u001B[38;5;28mself\u001B[39m\u001B[38;5;241m.\u001B[39mrsquared]),\n\u001B[0;32m   2778\u001B[0m              (\u001B[38;5;124m'\u001B[39m\u001B[38;5;124mAdj. R-squared\u001B[39m\u001B[38;5;124m'\u001B[39m \u001B[38;5;241m+\u001B[39m rsquared_type \u001B[38;5;241m+\u001B[39m \u001B[38;5;124m'\u001B[39m\u001B[38;5;124m:\u001B[39m\u001B[38;5;124m'\u001B[39m,\n\u001B[0;32m   2779\u001B[0m               [\u001B[38;5;124m\"\u001B[39m\u001B[38;5;132;01m%#8.3f\u001B[39;00m\u001B[38;5;124m\"\u001B[39m \u001B[38;5;241m%\u001B[39m \u001B[38;5;28mself\u001B[39m\u001B[38;5;241m.\u001B[39mrsquared_adj]),\n\u001B[1;32m-> 2780\u001B[0m              (\u001B[38;5;124m'\u001B[39m\u001B[38;5;124mF-statistic:\u001B[39m\u001B[38;5;124m'\u001B[39m, [\u001B[38;5;124m\"\u001B[39m\u001B[38;5;132;01m%#8.4g\u001B[39;00m\u001B[38;5;124m\"\u001B[39m \u001B[38;5;241m%\u001B[39m \u001B[38;5;28mself\u001B[39m\u001B[38;5;241m.\u001B[39mfvalue]),\n\u001B[0;32m   2781\u001B[0m              (\u001B[38;5;124m'\u001B[39m\u001B[38;5;124mProb (F-statistic):\u001B[39m\u001B[38;5;124m'\u001B[39m, [\u001B[38;5;124m\"\u001B[39m\u001B[38;5;132;01m%#6.3g\u001B[39;00m\u001B[38;5;124m\"\u001B[39m \u001B[38;5;241m%\u001B[39m \u001B[38;5;28mself\u001B[39m\u001B[38;5;241m.\u001B[39mf_pvalue]),\n\u001B[0;32m   2782\u001B[0m              (\u001B[38;5;124m'\u001B[39m\u001B[38;5;124mLog-Likelihood:\u001B[39m\u001B[38;5;124m'\u001B[39m, \u001B[38;5;28;01mNone\u001B[39;00m),\n\u001B[0;32m   2783\u001B[0m              (\u001B[38;5;124m'\u001B[39m\u001B[38;5;124mAIC:\u001B[39m\u001B[38;5;124m'\u001B[39m, [\u001B[38;5;124m\"\u001B[39m\u001B[38;5;132;01m%#8.4g\u001B[39;00m\u001B[38;5;124m\"\u001B[39m \u001B[38;5;241m%\u001B[39m \u001B[38;5;28mself\u001B[39m\u001B[38;5;241m.\u001B[39maic]),\n\u001B[0;32m   2784\u001B[0m              (\u001B[38;5;124m'\u001B[39m\u001B[38;5;124mBIC:\u001B[39m\u001B[38;5;124m'\u001B[39m, [\u001B[38;5;124m\"\u001B[39m\u001B[38;5;132;01m%#8.4g\u001B[39;00m\u001B[38;5;124m\"\u001B[39m \u001B[38;5;241m%\u001B[39m \u001B[38;5;28mself\u001B[39m\u001B[38;5;241m.\u001B[39mbic])\n\u001B[0;32m   2785\u001B[0m              ]\n\u001B[0;32m   2787\u001B[0m \u001B[38;5;28;01mif\u001B[39;00m slim:\n\u001B[0;32m   2788\u001B[0m     slimlist \u001B[38;5;241m=\u001B[39m [\u001B[38;5;124m'\u001B[39m\u001B[38;5;124mDep. Variable:\u001B[39m\u001B[38;5;124m'\u001B[39m, \u001B[38;5;124m'\u001B[39m\u001B[38;5;124mModel:\u001B[39m\u001B[38;5;124m'\u001B[39m, \u001B[38;5;124m'\u001B[39m\u001B[38;5;124mNo. Observations:\u001B[39m\u001B[38;5;124m'\u001B[39m,\n\u001B[0;32m   2789\u001B[0m                 \u001B[38;5;124m'\u001B[39m\u001B[38;5;124mCovariance Type:\u001B[39m\u001B[38;5;124m'\u001B[39m, \u001B[38;5;124m'\u001B[39m\u001B[38;5;124mR-squared:\u001B[39m\u001B[38;5;124m'\u001B[39m, \u001B[38;5;124m'\u001B[39m\u001B[38;5;124mAdj. R-squared:\u001B[39m\u001B[38;5;124m'\u001B[39m,\n\u001B[0;32m   2790\u001B[0m                 \u001B[38;5;124m'\u001B[39m\u001B[38;5;124mF-statistic:\u001B[39m\u001B[38;5;124m'\u001B[39m, \u001B[38;5;124m'\u001B[39m\u001B[38;5;124mProb (F-statistic):\u001B[39m\u001B[38;5;124m'\u001B[39m]\n",
      "File \u001B[1;32mproperties.pyx:36\u001B[0m, in \u001B[0;36mpandas._libs.properties.CachedProperty.__get__\u001B[1;34m()\u001B[0m\n",
      "File \u001B[1;32mC:\\ProgramData\\anaconda3\\Lib\\site-packages\\statsmodels\\regression\\linear_model.py:1866\u001B[0m, in \u001B[0;36mRegressionResults.fvalue\u001B[1;34m(self)\u001B[0m\n\u001B[0;32m   1864\u001B[0m     \u001B[38;5;28;01mif\u001B[39;00m mat\u001B[38;5;241m.\u001B[39msize \u001B[38;5;241m==\u001B[39m \u001B[38;5;241m0\u001B[39m:  \u001B[38;5;66;03m# see  #3642\u001B[39;00m\n\u001B[0;32m   1865\u001B[0m         \u001B[38;5;28;01mreturn\u001B[39;00m np\u001B[38;5;241m.\u001B[39mnan\n\u001B[1;32m-> 1866\u001B[0m ft \u001B[38;5;241m=\u001B[39m \u001B[38;5;28mself\u001B[39m\u001B[38;5;241m.\u001B[39mf_test(mat)\n\u001B[0;32m   1867\u001B[0m \u001B[38;5;66;03m# using backdoor to set another attribute that we already have\u001B[39;00m\n\u001B[0;32m   1868\u001B[0m \u001B[38;5;28mself\u001B[39m\u001B[38;5;241m.\u001B[39m_cache[\u001B[38;5;124m'\u001B[39m\u001B[38;5;124mf_pvalue\u001B[39m\u001B[38;5;124m'\u001B[39m] \u001B[38;5;241m=\u001B[39m \u001B[38;5;28mfloat\u001B[39m(ft\u001B[38;5;241m.\u001B[39mpvalue)\n",
      "File \u001B[1;32mC:\\ProgramData\\anaconda3\\Lib\\site-packages\\statsmodels\\base\\model.py:1784\u001B[0m, in \u001B[0;36mLikelihoodModelResults.f_test\u001B[1;34m(self, r_matrix, cov_p, invcov)\u001B[0m\n\u001B[0;32m   1691\u001B[0m \u001B[38;5;28;01mdef\u001B[39;00m \u001B[38;5;21mf_test\u001B[39m(\u001B[38;5;28mself\u001B[39m, r_matrix, cov_p\u001B[38;5;241m=\u001B[39m\u001B[38;5;28;01mNone\u001B[39;00m, invcov\u001B[38;5;241m=\u001B[39m\u001B[38;5;28;01mNone\u001B[39;00m):\n\u001B[0;32m   1692\u001B[0m \u001B[38;5;250m    \u001B[39m\u001B[38;5;124;03m\"\"\"\u001B[39;00m\n\u001B[0;32m   1693\u001B[0m \u001B[38;5;124;03m    Compute the F-test for a joint linear hypothesis.\u001B[39;00m\n\u001B[0;32m   1694\u001B[0m \n\u001B[1;32m   (...)\u001B[0m\n\u001B[0;32m   1782\u001B[0m \u001B[38;5;124;03m    <F test: F=array([[ 144.17976065]]), p=6.322026217355609e-08, df_denom=9, df_num=3>\u001B[39;00m\n\u001B[0;32m   1783\u001B[0m \u001B[38;5;124;03m    \"\"\"\u001B[39;00m\n\u001B[1;32m-> 1784\u001B[0m     res \u001B[38;5;241m=\u001B[39m \u001B[38;5;28mself\u001B[39m\u001B[38;5;241m.\u001B[39mwald_test(r_matrix, cov_p\u001B[38;5;241m=\u001B[39mcov_p, invcov\u001B[38;5;241m=\u001B[39minvcov, use_f\u001B[38;5;241m=\u001B[39m\u001B[38;5;28;01mTrue\u001B[39;00m, scalar\u001B[38;5;241m=\u001B[39m\u001B[38;5;28;01mTrue\u001B[39;00m)\n\u001B[0;32m   1785\u001B[0m     \u001B[38;5;28;01mreturn\u001B[39;00m res\n",
      "File \u001B[1;32mC:\\ProgramData\\anaconda3\\Lib\\site-packages\\statsmodels\\base\\model.py:1888\u001B[0m, in \u001B[0;36mLikelihoodModelResults.wald_test\u001B[1;34m(self, r_matrix, cov_p, invcov, use_f, df_constraints, scalar)\u001B[0m\n\u001B[0;32m   1886\u001B[0m cov_p \u001B[38;5;241m=\u001B[39m \u001B[38;5;28mself\u001B[39m\u001B[38;5;241m.\u001B[39mcov_params(r_matrix\u001B[38;5;241m=\u001B[39mr_matrix, cov_p\u001B[38;5;241m=\u001B[39mcov_p)\n\u001B[0;32m   1887\u001B[0m \u001B[38;5;28;01mif\u001B[39;00m np\u001B[38;5;241m.\u001B[39misnan(cov_p)\u001B[38;5;241m.\u001B[39mmax():\n\u001B[1;32m-> 1888\u001B[0m     \u001B[38;5;28;01mraise\u001B[39;00m \u001B[38;5;167;01mValueError\u001B[39;00m(\u001B[38;5;124m\"\u001B[39m\u001B[38;5;124mr_matrix performs f_test for using \u001B[39m\u001B[38;5;124m\"\u001B[39m\n\u001B[0;32m   1889\u001B[0m                      \u001B[38;5;124m\"\u001B[39m\u001B[38;5;124mdimensions that are asymptotically \u001B[39m\u001B[38;5;124m\"\u001B[39m\n\u001B[0;32m   1890\u001B[0m                      \u001B[38;5;124m\"\u001B[39m\u001B[38;5;124mnon-normal\u001B[39m\u001B[38;5;124m\"\u001B[39m)\n\u001B[0;32m   1891\u001B[0m invcov \u001B[38;5;241m=\u001B[39m np\u001B[38;5;241m.\u001B[39mlinalg\u001B[38;5;241m.\u001B[39mpinv(cov_p)\n\u001B[0;32m   1892\u001B[0m J_ \u001B[38;5;241m=\u001B[39m np\u001B[38;5;241m.\u001B[39mlinalg\u001B[38;5;241m.\u001B[39mmatrix_rank(cov_p)\n",
      "\u001B[1;31mValueError\u001B[0m: r_matrix performs f_test for using dimensions that are asymptotically non-normal"
     ]
    }
   ],
   "source": [
    "\n",
    "# Save model results\n",
    "with open('model_absorb_results.txt', 'w') as f:\n",
    "    f.write(model_absorb.summary().as_text())\n",
    "\n",
    "# Additional analyses and summary statistics\n",
    "regression_df['median_rel_int'] = 0\n",
    "regression_df['median_rel_int'] = regression_df['int1c'].where(regression_df['int1c'] >= regression_df['int1c'].median(), 0)\n",
    "regression_df['median_rel_int'] = regression_df['median_rel_int'].where(regression_df['int1c'] < regression_df['int1c'].median(), 1)\n",
    "\n",
    "regression_df['intheset2'] = regression_df['intheset'].where(regression_df['median_rel_int'] == 1, 0)\n",
    "regression_df['intheset3'] = regression_df['intheset'].where(regression_df['median_rel_int'] == 0, 0)\n",
    "\n",
    "model_rel_int = smf.ols('ir ~ TREATED + int1c + ' +\n",
    "                        ' + '.join([f'sz_q{i}' for i in range(1, 10)]) + ' + ' +\n",
    "                        ' + '.join([f'scope_q{i}' for i in range(1, 5)]) + ' + ' +\n",
    "                        ' + '.join([f'age_q{i}' for i in range(1, 10)]) + ' + ' +\n",
    "                        ' + '.join([f'firmsz_q{i}' for i in range(10)]) + ' + ' +\n",
    "                        ' + '.join([f'firmage_q{i}' for i in range(10)]) + ' + ' +\n",
    "                        ' + '.join([f'year_dum_{i}' for i in range(1994, 2012)]),\n",
    "                        data=regression_df[(regression_df['intheset2'] == 1) & (regression_df['firmscope'] < 50)]).fit(cov_type='cluster', cov_kwds={'groups': regression_df['id']})\n",
    "\n",
    "print(model_rel_int.summary())\n",
    "with open('model_rel_int_results.txt', 'w') as f:\n",
    "    f.write(model_rel_int.summary().as_text())\n",
    "##########################################################################################################################################################################\n",
    "# Create grouped object for clustering BEFORE filtering\n",
    "grouped = regression_df.groupby('id')\n",
    "\n",
    "# Regressions for additional analysis\n",
    "# Model for \"related\" firms with firmscope < 50\n",
    "filtered_related = grouped.filter(lambda x: len(x) >= 2 and (x['intheset2'] == 1).any() and (x['firmscope'] < 50).all())  # Filter within groups\n",
    "model_rel_int = smf.ols('ir ~ max_treated + time_treat + ' +\n",
    "                        ' + '.join([f'sz_q{i}' for i in range(1, 10)]) + ' + ' +\n",
    "                        ' + '.join([f'scope_q{i}' for i in range(1, 5)]) + ' + ' +\n",
    "                        ' + '.join([f'age_q{i}' for i in range(1, 10)]) + ' + ' +\n",
    "                        ' + '.join([f'firmsz_q{i}' for i in range(1, 10)]) + ' + ' +\n",
    "                        ' + '.join([f'firmage_q{i}' for i in range(1, 10)]) + ' + ' +\n",
    "                        ' + '.join([f'year_dum_{i}' for i in range(1994, 2012)]),\n",
    "                        data=filtered_related).fit(cov_type='cluster', cov_kwds={'groups': filtered_related['id']})\n",
    "print(model_rel_int.summary())\n",
    "with open('model_rel_int_results.txt', 'w') as f:\n",
    "    f.write(model_rel_int.summary().as_text())\n",
    "\n",
    "# Subsample regressions\n",
    "median_max_firmscope = regression_df[(regression_df['max_treated'] == 1) & (regression_df['intheset'] == 1) & (regression_df['firmscope'] < 50)]['max_firmscope'].median()\n",
    "\n",
    "# Model: firm_ir ~ max_treated + int1c_max + int2_max + triple_int_max + controls (firmscope < median)\n",
    "filtered_low_scope = grouped.filter(lambda x: len(x) >= 2 and (x['max_firmscope'] < median_max_firmscope).all())\n",
    "model_subsample_review_1 = smf.ols('firm_ir ~ max_treated + int1c_max + int2_max + triple_int_max + ' +\n",
    "                                   ' + '.join([f'sz_q{i}' for i in range(1, 10)]) + ' + ' +\n",
    "                                   ' + '.join([f'scope_q{i}' for i in range(1, 5)]) + ' + ' +\n",
    "                                   ' + '.join([f'age_q{i}' for i in range(1, 10)]) + ' + ' +\n",
    "                                   ' + '.join([f'firmsz_q{i}' for i in range(1, 10)]) + ' + ' +\n",
    "                                   ' + '.join([f'firmage_q{i}' for i in range(1, 10)]) + ' + ' +\n",
    "                                   ' + '.join([f'year_dum_{i}' for i in range(1994, 2012)]),\n",
    "                                   data=filtered_low_scope).fit(cov_type='cluster', cov_kwds={'groups': filtered_low_scope['id']})\n",
    "print(model_subsample_review_1.summary())\n",
    "with open('model_subsample_review_1_results.txt', 'w') as f:\n",
    "    f.write(model_subsample_review_1.summary().as_text())\n",
    "\n",
    "# Model: firm_ir ~ max_treated + int1c_max + int2_max + triple_int_max + controls (firmscope >= median)\n",
    "filtered_high_scope = grouped.filter(lambda x: len(x) >= 2 and (x['max_firmscope'] >= median_max_firmscope).all())\n",
    "model_subsample_review_2 = smf.ols('firm_ir ~ max_treated + int1c_max + int2_max + triple_int_max + ' +\n",
    "                                   ' + '.join([f'sz_q{i}' for i in range(1, 10)]) + ' + ' +\n",
    "                                   ' + '.join([f'scope_q{i}' for i in range(1, 5)]) + ' + ' +\n",
    "                                   ' + '.join([f'age_q{i}' for i in range(1, 10)]) + ' + ' +\n",
    "                                   ' + '.join([f'firmsz_q{i}' for i in range(1, 10)]) + ' + ' +\n",
    "                                   ' + '.join([f'firmage_q{i}' for i in range(1, 10)]) + ' + ' +\n",
    "                                   ' + '.join([f'year_dum_{i}' for i in range(1994, 2012)]),\n",
    "                                   data=filtered_high_scope).fit(cov_type='cluster', cov_kwds={'groups': filtered_high_scope['id']})\n",
    "print(model_subsample_review_2.summary())\n",
    "with open('model_subsample_review_2_results.txt', 'w') as f:\n",
    "    f.write(model_subsample_review_2.summary().as_text())\n",
    "# Save model results\n",
    "\n",
    "########################################################################################################################################\n",
    "\n",
    "# Additional preparations for the regressions and final steps of reg1.do\n",
    "# Subsample regressions as called for by reviewer\n",
    "model_subsample_review_1 = smf.ols('firm_ir ~ max_treated + int1c_max + int2_max + triple_int_max + ' +\n",
    "                                   ' + '.join([f'sz_q{i}' for i in range(1, 10)]) + ' + ' +\n",
    "                                   ' + '.join([f'scope_q{i}' for i in range(1, 5)]) + ' + ' +\n",
    "                                   ' + '.join([f'age_q{i}' for i in range(1, 10)]) + ' + ' +\n",
    "                                   ' + '.join([f'firmsz_q{i}' for i in range(10)]) + ' + ' +\n",
    "                                   ' + '.join([f'firmage_q{i}' for i in range(10)]) + ' + ' +\n",
    "                                   ' + '.join([f'year_dum_{i}' for i in range(1994, 2012)]),\n",
    "                                   data=regression_df[regression_df['max_firmscope'] < median_max_firmscope]).fit(cov_type='cluster', cov_kwds={'groups': regression_df['id']})\n",
    "print(model_subsample_review_1.summary())\n",
    "with open('model_subsample_review_1_results.txt', 'w') as f:\n",
    "    f.write(model_subsample_review_1.summary().as_text())\n",
    "\n",
    "model_subsample_review_2 = smf.ols('firm_ir ~ max_treated + int1c_max + int2_max + triple_int_max + ' +\n",
    "                                   ' + '.join([f'sz_q{i}' for i in range(1, 10)]) + ' + ' +\n",
    "                                   ' + '.join([f'scope_q{i}' for i in range(1, 5)]) + ' + ' +\n",
    "                                   ' + '.join([f'age_q{i}' for i in range(1, 10)]) + ' + ' +\n",
    "                                   ' + '.join([f'firmsz_q{i}' for i in range(10)]) + ' + ' +\n",
    "                                   ' + '.join([f'firmage_q{i}' for i in range(10)]) + ' + ' +\n",
    "                                   ' + '.join([f'year_dum_{i}' for i in range(1994, 2012)]),\n",
    "                                   data=regression_df[regression_df['max_firmscope'] >= median_max_firmscope]).fit(cov_type='cluster', cov_kwds={'groups': regression_df['id']})\n",
    "print(model_subsample_review_2.summary())\n",
    "with open('model_subsample_review_2_results.txt', 'w') as f:\n",
    "    f.write(model_subsample_review_2.summary().as_text())\n"
   ],
   "metadata": {
    "collapsed": false,
    "ExecuteTime": {
     "end_time": "2024-08-08T11:14:12.842944Z",
     "start_time": "2024-08-08T11:14:04.184200500Z"
    }
   },
   "id": "c6b2065e6ce3fb32",
   "execution_count": 297
  },
  {
   "cell_type": "markdown",
   "source": [
    "**Adjusting the regression: SIMPLIFICATION OF VARIABLES -> Seems to have good effect on the regression**"
   ],
   "metadata": {
    "collapsed": false
   },
   "id": "e70e6d36f9ed6845"
  },
  {
   "cell_type": "code",
   "outputs": [],
   "source": [
    "import statsmodels.api as sm\n",
    "import statsmodels.formula.api as smf\n",
    "regression_df = pd.read_csv('regression_df.csv')\n",
    "\n",
    "# Ensure continuous variables are ready\n",
    "# Assuming 'aum', 'age', 'firmscope', 'firm_age', and 'year' are the original continuous variables\n",
    "\n",
    "# Prepare the simplified dataset\n",
    "regression_df['log_aum'] = np.log(regression_df['aum_x'] + 1)  # Log transformation for aum to handle skewness\n",
    "regression_df['log_age'] = np.log(regression_df['age'] + 1)  # Log transformation for age\n",
    "regression_df['log_firmscope'] = np.log(regression_df['firmscope'] + 1)  # Log transformation for firm scope\n",
    "regression_df['log_firm_age'] = np.log(regression_df['firm_age'] + 1)  # Log transformation for firm age\n",
    "\n",
    "# Select the continuous variables and other relevant variables\n",
    "simpler_columns = ['TREATED', 'log_aum', 'log_age', 'log_firmscope', 'log_firm_age']\n",
    "\n",
    "# Create a simplified regression model\n",
    "model_simple = (smf.ols('ir ~ ' + ' + '.join(simpler_columns), data=regression_df))\n",
    "                \n",
    "result = model_simple.fit(cov_type='cluster', cov_kwds={'groups': regression_df['id']})\n",
    "print(result.summary())\n",
    "# Save model results\n",
    "with open('model_simple_results.txt', 'w') as f:\n",
    "    f.write(result.summary().as_text())"
   ],
   "metadata": {
    "collapsed": false,
    "ExecuteTime": {
     "end_time": "2024-08-07T17:03:02.810394700Z",
     "start_time": "2024-08-07T17:03:02.769684500Z"
    }
   },
   "id": "52d4e91514a28c0d",
   "execution_count": null
  },
  {
   "cell_type": "code",
   "outputs": [],
   "source": [
    "# Select the continuous variables, treatment, and year dummies\n",
    "year_dummies = [f'year_dum_{i}' for i in range(1994, 2008)]\n",
    "simpler_columns_with_year = simpler_columns + year_dummies\n",
    "\n",
    "# Create a regression model including year dummies\n",
    "model_simple_with_year = smf.ols('ir ~ ' + ' + '.join(simpler_columns_with_year), data=regression_df).fit(cov_type='cluster', cov_kwds={'groups': regression_df['id']})\n",
    "\n",
    "print(model_simple_with_year.summary())\n"
   ],
   "metadata": {
    "collapsed": false,
    "ExecuteTime": {
     "start_time": "2024-08-07T17:03:02.774091300Z"
    }
   },
   "id": "e14cbfa523abfbaa",
   "execution_count": null
  },
  {
   "cell_type": "markdown",
   "source": [
    "Simplified other models\n"
   ],
   "metadata": {
    "collapsed": false
   },
   "id": "3f3e0dfc26c7f6cf"
  },
  {
   "cell_type": "code",
   "outputs": [],
   "source": [
    "print(regression_df.head())"
   ],
   "metadata": {
    "collapsed": false,
    "ExecuteTime": {
     "start_time": "2024-08-07T17:03:02.776375900Z"
    }
   },
   "id": "d08340ce10ddeccf",
   "execution_count": null
  },
  {
   "cell_type": "markdown",
   "source": [
    "ABSORB MODEL (MODEL2)"
   ],
   "metadata": {
    "collapsed": false
   },
   "id": "f930682d5b3072b7"
  },
  {
   "cell_type": "code",
   "outputs": [],
   "source": [
    "from linearmodels import PanelOLS\n",
    "import pandas as pd\n",
    "\n",
    "# Ensure 'id' is treated as a categorical variable and 'mydate' is date-like\n",
    "regression_df['id'] = regression_df['id'].astype('category')\n",
    "\n",
    "# Convert 'mydate' to a datetime format or ensure it is numeric\n",
    "if not pd.api.types.is_numeric_dtype(regression_df['mydate']):\n",
    "    regression_df['mydate'] = pd.to_datetime(regression_df['mydate'], format='%Y%m%d')\n",
    "\n",
    "# Set the index to be a MultiIndex with 'id' and 'mydate'\n",
    "regression_df = regression_df.set_index(['id', 'mydate'])\n",
    "\n",
    "# Define the model formula, dropping one year dummy to avoid multicollinearity\n",
    "# year_dummies = ' + '.join([f'year_dum_{i}' for i in range(1994, 2011)])  # Dropping 2012 to avoid perfect collinearity\n",
    "\n",
    "formula = f'ir ~ TREATED + log_aum + log_age + log_firmscope + log_firm_age'\n",
    "\n",
    "# Fit the fixed effects model\n",
    "model_absorb = PanelOLS.from_formula(formula, data=regression_df, drop_absorbed=True)\n",
    "results = model_absorb.fit(cov_type='clustered', cluster_entity=True)\n",
    "\n",
    "print(results.summary)\n",
    "\n",
    "# Save model results\n",
    "with open('model_absorb_results.txt', 'w') as f:\n",
    "    f.write(results.summary.as_text())\n"
   ],
   "metadata": {
    "collapsed": false,
    "ExecuteTime": {
     "start_time": "2024-08-07T17:03:02.780135800Z"
    }
   },
   "id": "7c66aeeb9cbb4c42",
   "execution_count": null
  },
  {
   "cell_type": "code",
   "outputs": [],
   "source": [],
   "metadata": {
    "collapsed": false,
    "ExecuteTime": {
     "start_time": "2024-08-07T17:03:02.783362600Z"
    }
   },
   "id": "f84acbc138816065"
  },
  {
   "cell_type": "markdown",
   "source": [
    "MODEL 3 (Median-related interaction model)"
   ],
   "metadata": {
    "collapsed": false
   },
   "id": "27be945db9c02c2a"
  },
  {
   "cell_type": "code",
   "outputs": [],
   "source": [
    "from linearmodels import PanelOLS\n",
    "import pandas as pd\n",
    "\n",
    "# Ensure 'id' is treated as a categorical variable and 'mydate' is date-like\n",
    "regression_df['id'] = regression_df['id'].astype('category')\n",
    "\n",
    "# Convert 'mydate' to a datetime format or ensure it is numeric\n",
    "if not pd.api.types.is_numeric_dtype(regression_df['mydate']):\n",
    "    regression_df['mydate'] = pd.to_datetime(regression_df['mydate'], format='%Y%m%d')\n",
    "\n",
    "# Set the index to be a MultiIndex with 'id' and 'mydate'\n",
    "regression_df = regression_df.set_index(['id', 'mydate'])\n",
    "\n",
    "# Create the interaction term\n",
    "regression_df['TREATED_related'] = regression_df['TREATED'] * regression_df['int1c']\n",
    "\n",
    "# Define the model formula, dropping one year dummy to avoid multicollinearity\n",
    "year_dummies = ' + '.join([f'year_dum_{i}' for i in range(1994, 2011)])  # Dropping 2012 to avoid perfect collinearity\n",
    "\n",
    "formula = f'ir ~ TREATED + TREATED_related + log_aum + log_age + log_firmscope + log_firm_age'\n",
    "\n",
    "# Fit the fixed effects model\n",
    "model_rel_int_simple = PanelOLS.from_formula(formula, data=regression_df, drop_absorbed=True)\n",
    "results = model_rel_int_simple.fit(cov_type='clustered', cluster_entity=True)\n",
    "\n",
    "print(results.summary)\n",
    "\n",
    "# Save model results\n",
    "with open('model_rel_int_simple_results.txt', 'w') as f:\n",
    "    f.write(results.summary.as_text())\n"
   ],
   "metadata": {
    "collapsed": false,
    "ExecuteTime": {
     "start_time": "2024-08-07T17:03:02.786665100Z"
    }
   },
   "id": "c7bf2a9b8a9566f9",
   "execution_count": null
  },
  {
   "cell_type": "code",
   "outputs": [],
   "source": [
    "# Calculate median max_firmscope\n",
    "median_max_firmscope = regression_df[(regression_df['max_treated'] == 1) & (regression_df['intheset'] == 1) & (regression_df['firmscope'] < 50)]['max_firmscope'].median()\n",
    "\n",
    "# Simplified regression model for firmscope < median\n",
    "filtered_low_scope = regression_df[(regression_df['max_firmscope'] < median_max_firmscope) & (regression_df['firmscope'] < 50)]\n",
    "model_subsample_review_1_simple = smf.ols('firm_ir ~ max_treated + int1c_max + int2_max + triple_int_max + log_aum + log_age + log_firmscope + log_firm_age + ' +\n",
    "                                          ' + '.join([f'year_dum_{i}' for i in range(1994, 2012)]),\n",
    "                                          data=filtered_low_scope).fit(cov_type='cluster', cov_kwds={'groups': filtered_low_scope['id']})\n",
    "\n",
    "print(model_subsample_review_1_simple.summary())\n",
    "with open('model_subsample_review_1_simple_results.txt', 'w') as f:\n",
    "    f.write(model_subsample_review_1_simple.summary().as_text())\n",
    "\n",
    "# Simplified regression model for firmscope >= median\n",
    "filtered_high_scope = regression_df[(regression_df['max_firmscope'] >= median_max_firmscope) & (regression_df['firmscope'] < 50)]\n",
    "model_subsample_review_2_simple = smf.ols('firm_ir ~ max_treated + int1c_max + int2_max + triple_int_max + log_aum + log_age + log_firmscope + log_firm_age + ' +\n",
    "                                          ' + '.join([f'year_dum_{i}' for i in range(1994, 2012)]),\n",
    "                                          data=filtered_high_scope).fit(cov_type='cluster', cov_kwds={'groups': filtered_high_scope['id']})\n",
    "\n",
    "print(model_subsample_review_2_simple.summary())\n",
    "with open('model_subsample_review_2_simple_results.txt', 'w') as f:\n",
    "    f.write(model_subsample_review_2_simple.summary().as_text())\n"
   ],
   "metadata": {
    "collapsed": false,
    "ExecuteTime": {
     "start_time": "2024-08-07T17:03:02.789845900Z"
    }
   },
   "id": "3875ace586cd00fc"
  },
  {
   "cell_type": "code",
   "outputs": [],
   "source": [],
   "metadata": {
    "collapsed": false,
    "ExecuteTime": {
     "start_time": "2024-08-07T17:03:02.792044200Z"
    }
   },
   "id": "21849567b59a141"
  }
 ],
 "metadata": {
  "kernelspec": {
   "display_name": "Python 3",
   "language": "python",
   "name": "python3"
  },
  "language_info": {
   "codemirror_mode": {
    "name": "ipython",
    "version": 2
   },
   "file_extension": ".py",
   "mimetype": "text/x-python",
   "name": "python",
   "nbconvert_exporter": "python",
   "pygments_lexer": "ipython2",
   "version": "2.7.6"
  }
 },
 "nbformat": 4,
 "nbformat_minor": 5
}
